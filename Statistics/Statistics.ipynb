{
 "cells": [
  {
   "attachments": {},
   "cell_type": "markdown",
   "metadata": {},
   "source": [
    "### Statistics Notes\n",
    "\n",
    "https://en.wikipedia.org/wiki/Lists_of_statistics_topics\n",
    "* Reference notes on Drive.\n",
    "\n",
    "Cover:\n",
    "* General\n",
    "    * Bayesian versus Frequentist\n",
    "* Different Moments\n",
    "    * Mean\n",
    "    * Variance\n",
    "    * Standard Deviation\n",
    "* Correlation\n",
    "* Different distributions:\n",
    "    * Normal\n",
    "        - Maximum entropy property of the normal distribution\n",
    "        - Standard Normal\n",
    "        - General Normal\n",
    "    * Cumulative\n",
    "    * Poisson\n",
    "        - Negative binomial regression\n",
    "        - Zero inflated model\n",
    "    * Power Laws\n",
    "* Theorems\n",
    "    * Law of Large Numbers\n",
    "    * Central Limit Theorem\n",
    "* Inference\n",
    "    * Bayes Theorem\n",
    "    * Likelihood, negative log likelihood, MLE\n",
    "* Regressions \n",
    "    * Generalized Least Squares\n",
    "        * P-value, T-value\n",
    "        * Heteroskedasticity, autocorrelation, multicollinearity.\n",
    "        * Newey-West\n",
    "    * Logit / Probit\n",
    "    * Poisson Regression\n",
    "    * Elastic Net\n",
    "    * Ridge Regression\n",
    "    * Lasso Regression\n",
    "* Multivariate Analysis\n",
    "    * PCA/SDG\n",
    "    * Factor Analysis\n",
    "    * Cluster Analysis\n",
    "* Machine Learning\n",
    "    * Decision Trees\n",
    "    * Random Forest"
   ]
  }
 ],
 "metadata": {
  "language_info": {
   "name": "python"
  },
  "orig_nbformat": 4
 },
 "nbformat": 4,
 "nbformat_minor": 2
}

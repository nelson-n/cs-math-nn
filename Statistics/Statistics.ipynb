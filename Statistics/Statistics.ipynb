{
 "cells": [
  {
   "attachments": {},
   "cell_type": "markdown",
   "metadata": {},
   "source": [
    "### Calculus Notes\n",
    "\n",
    "https://en.wikipedia.org/wiki/Lists_of_statistics_topics\n",
    "\n",
    "Cover:\n",
    "* General\n",
    "    * Bayesian versus Frequentist\n",
    "* Different Moments\n",
    "    * Mean\n",
    "    * Variance\n",
    "    * Standard Deviation\n",
    "* Correlation\n",
    "* Different distributions:\n",
    "    * Normal\n",
    "    * Poisson\n",
    "    * Power Laws\n",
    "* Inference\n",
    "    * Bayes Theorem\n",
    "    * Likelihood, negative log likelihood, MLE\n",
    "* Regressions \n",
    "    * Generalized Least Squares\n",
    "        * P-value, T-value\n",
    "        * Heteroskedasticity, autocorrelation, multicollinearity.\n",
    "        * Newey-West\n",
    "    * Logit / Probit\n",
    "    * Poisson Regression\n",
    "    * Elastic Net\n",
    "    * Ridge Regression\n",
    "    * Lasso Regression\n",
    "* Multivariate Analysis\n",
    "    * PCA/SDG\n",
    "    * Factor Analysis\n",
    "    * Cluster Analysis"
   ]
  }
 ],
 "metadata": {
  "language_info": {
   "name": "python"
  },
  "orig_nbformat": 4
 },
 "nbformat": 4,
 "nbformat_minor": 2
}

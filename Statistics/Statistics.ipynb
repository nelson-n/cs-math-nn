{
 "cells": [
  {
   "attachments": {},
   "cell_type": "markdown",
   "metadata": {},
   "source": [
    "### Statistics Notes\n",
    "\n",
    "https://en.wikipedia.org/wiki/Lists_of_statistics_topics\n",
    "* Reference notes on Drive.\n",
    "\n",
    "Cover:\n",
    "* General\n",
    "    * Bayesian versus Frequentist\n",
    "* Different Moments\n",
    "    * Mean\n",
    "    * Variance\n",
    "    * Standard Deviation\n",
    "* Correlation\n",
    "* Different distributions:\n",
    "    * Normal\n",
    "        - Maximum entropy property of the normal distribution\n",
    "        - Standard Normal\n",
    "        - General Normal\n",
    "    * Cumulative\n",
    "    * Poisson\n",
    "        - Negative binomial regression\n",
    "        - Zero inflated model\n",
    "    * Power Laws\n",
    "* Theorems\n",
    "    * Law of Large Numbers\n",
    "    * Central Limit Theorem\n",
    "* Inference\n",
    "    * Bayes Theorem\n",
    "    * Likelihood, negative log likelihood, MLE\n",
    "* Regressions \n",
    "    * Generalized Least Squares\n",
    "        * P-value, T-value\n",
    "        * Heteroskedasticity, autocorrelation, multicollinearity.\n",
    "        * Newey-West\n",
    "    * Logit / Probit\n",
    "    * Poisson Regression\n",
    "    * Elastic Net\n",
    "    * Ridge Regression\n",
    "    * Lasso Regression\n",
    "* Multivariate Analysis\n",
    "    * PCA/SDG\n",
    "    * Factor Analysis\n",
    "    * Cluster Analysis\n",
    "* Machine Learning\n",
    "    * Decision Trees\n",
    "    * Random Forest"
   ]
  },
  {
   "cell_type": "markdown",
   "metadata": {},
   "source": [
    "---\n",
    "\n",
    "Find location for this <<\n",
    "\n",
    "## Statistics Basics\n",
    "**Variance** = $Var[X] = E[(X - E[X])^2]$\n",
    "* alternatively: $S^2 = \\frac{\\sum_{i=1}^n (x_i - \\bar{x})^2}{n-1}$\n",
    "\n",
    "**Standard Deviation** = $\\sqrt{Var[X]} = \\sigma$\n",
    "\n",
    "---"
   ]
  },
  {
   "cell_type": "markdown",
   "metadata": {},
   "source": [
    "## Sections\n",
    "* Fundamentals\n",
    "* Theorems\n",
    "* Interpretations of Linear Regression\n",
    "\n",
    "---"
   ]
  },
  {
   "cell_type": "markdown",
   "metadata": {},
   "source": [
    "## Fundamentals\n",
    "\n",
    "**Mean:** $\\mu = \\frac{\\sum_{i=1}^n x_i}{n}$\n",
    "\n",
    "**Variance:** $\\sigma^2 = \\frac{\\sum_{i=1}^n (x_i - \\mu)^2}{n}$\n",
    "\n",
    "**Standard Deviation:** $\\sigma = \\sqrt{\\sigma^2}$"
   ]
  },
  {
   "cell_type": "markdown",
   "metadata": {},
   "source": [
    "## Theorems\n",
    "\n",
    "**Markov's Inequality**\n",
    "* \"The probability that a positive random variable is $K$ times greater than its mean is $\\leq \\frac{1}{K}$.\"\n",
    "* Given a random variable $X$ that takes only positive values, where $K$ is a constant and $E[X]$ is the mean of $X$:\n",
    "\n",
    "$$Pr[X \\geq K \\cdot E[X]] \\leq \\frac{1}{K}$$\n",
    "\n",
    "* If $X$ has $\\mu = 4$ the probability of sampling 8 is $\\leq \\frac{1}{2}$.\n",
    "\n",
    "**Chebyshev's Inequality**\n",
    "* \"When we sample from a random variable $X$ the probability that the given sample deviates more than its standard deviation $\\sigma$ by a factor of $t$ is $\\leq \\frac{1}{t^2}$.\"\n",
    "\n",
    "$$Pr[|X - \\mu| > t \\cdot \\sigma] \\leq \\frac{1}{t^2}$$\n",
    "\n",
    "* If $X$ has $\\mu = 4$ and $\\sigma = 2$ the probability of sampling 8 is $\\leq \\frac{1}{2^2} = \\frac{1}{4}$.\n",
    "\n",
    "**Chernoff Bound** \n",
    "* Say that we have a set of random variables $X_1, X_2, ..., X_n$ and that they have an average expected value of $E[X_i] = p$.\n",
    "* We can define the expected sum of all the random variables $\\mu$ which due to linearity of expectation is equal to the sum of the expected values of each random variable.\n",
    "    * $S = \\sum_{i=1}^{n} X_i$, the sum of the random variables, and $\\mu = E[S] = \\sum_{i=1}^{n} E[X_i] = np$.\n",
    "    * This is simply multilying the number of random variables $n$ by the average expected value of each random variable $p$.\n",
    "* The Chernoff Bound says:\n",
    "\n",
    "$$Pr[|S - \\mu| > \\delta n] \\leq 2e^{-2n \\delta^2}$$\n",
    "\n",
    "* The probability that the sum of the random variables deviates from the expected sum $\\mu$ by a factor of $\\delta$ is $\\leq 2e^{-2n \\delta^2}$.\n",
    "* This is akin to saying that the probability that you deviate from $\\mu$ is exponentially small in $n$, the sum of many random variables with the same $p$ will not deviate much.\n",
    "* Holds for any random variable where we can bound the variance, does not have to be a normal distribution.\n"
   ]
  },
  {
   "cell_type": "markdown",
   "metadata": {},
   "source": [
    "---"
   ]
  },
  {
   "cell_type": "markdown",
   "metadata": {},
   "source": [
    "## Interpretations of Linear Regression\n",
    "\n",
    "![](./NoteFiles/LinReg1.png)\n",
    "![](./NoteFiles/LinReg2.png)\n",
    "![](./NoteFiles/LinReg3.png)\n",
    "![](./NoteFiles/LinReg4.png)"
   ]
  }
 ],
 "metadata": {
  "language_info": {
   "name": "python"
  },
  "orig_nbformat": 4
 },
 "nbformat": 4,
 "nbformat_minor": 2
}

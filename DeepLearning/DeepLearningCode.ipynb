{
 "cells": [
  {
   "cell_type": "markdown",
   "metadata": {},
   "source": [
    "# DeepLearningCode.ipynb\n",
    "\n",
    "Code exploring various concepts in deep learning."
   ]
  },
  {
   "cell_type": "markdown",
   "metadata": {},
   "source": [
    "## Sections\n",
    "\n",
    "* Tensors"
   ]
  },
  {
   "cell_type": "markdown",
   "metadata": {},
   "source": [
    "---"
   ]
  },
  {
   "cell_type": "markdown",
   "metadata": {},
   "source": [
    "## Tensors"
   ]
  },
  {
   "cell_type": "markdown",
   "metadata": {},
   "source": [
    "#### General Tensor Operations"
   ]
  },
  {
   "cell_type": "code",
   "execution_count": null,
   "metadata": {},
   "outputs": [],
   "source": [
    "import torch\n",
    "import numpy as np\n",
    "from PIL import Image\n",
    "\n",
    "# Create order 1 tensor w/ 10 zeros.\n",
    "torch.zeros(10)\n",
    "\n",
    "# Create order 2 (matrix) tensor.\n",
    "torch.zeros(3, 3)\n",
    "torch.zeros([3, 3])\n",
    "\n",
    "# Create order 4 tensor and inspect size along a given dimension.\n",
    "T = torch.ones(2, 3, 4, 5)\n",
    "T.size(2)\n",
    "\n",
    "# Change shape of a tensor (flatten tensor for viewing).\n",
    "T = torch.ones(5, 2)\n",
    "T.view()\n"
   ]
  },
  {
   "cell_type": "markdown",
   "metadata": {},
   "source": [
    "#### Broadcasting\n",
    "* Allows you to effectively combine operations across different tensors.\n",
    "* Dimension 1 tensors are expanded to match the dimension of the other tensor."
   ]
  },
  {
   "cell_type": "code",
   "execution_count": null,
   "metadata": {},
   "outputs": [],
   "source": [
    "import torch\n",
    "\n",
    "# Generate tensor ranging from 0 to 9 and from 0 to 90.\n",
    "a = torch.arange(10)\n",
    "b = torch.arange(10) * 10\n",
    "\n",
    "# Convert a from an order 1 tensor (vector) to order 2 tensor (matrix).\n",
    "a[None].shape\n",
    "a[:, None].shape\n",
    "\n",
    "# Add arbitrarily many dimensions to a tensor.\n",
    "a[None, :, None, None, None].shape\n",
    "\n",
    "# Change dimensionality, then index in and remove dimensionality.\n",
    "c = a[None]\n",
    "c.shape\n",
    "c[0, :].shape\n",
    "\n",
    "# --- Broadcasting ---\n",
    "\n",
    "# Broadcasting tensors of different shapes together.\n",
    "# Tensors are replicated along the missing dimension.\n",
    "torch.ones(3, 1)\n",
    "torch.ones(1, 3)\n",
    "\n",
    "torch.ones(3, 1) + torch.ones(1, 3)\n",
    "\n",
    "# Additional broadcasting example, take tensor from 0-9 and 0-90 and broacast \n",
    "# together to create a 10x10 matrix of values from 0-99.\n",
    "a[None, :] + b[:, None]\n",
    "\n",
    "# Under the hood, the 0-9 matrix gets expanded along the 1st dimension.\n",
    "a[None, :].repeat(10, 1)\n",
    "\n",
    "# The 0-90 matrix gets expanded along the 2nd dimension.\n",
    "b[:, None].repeat(1, 10)\n",
    "\n",
    "# The two resultant tensors are then added.\n",
    "\n",
    "# You can also broadcast with multiplicatin.\n",
    "a[None, :] + b[:, None]\n"
   ]
  },
  {
   "cell_type": "markdown",
   "metadata": {},
   "source": [
    "## TensorBoard"
   ]
  },
  {
   "cell_type": "code",
   "execution_count": null,
   "metadata": {},
   "outputs": [],
   "source": [
    "# pip install -U tb-nightly\n",
    "import torch\n",
    "\n",
    "%load_ext tensorboard\n",
    "\n",
    "# Interface tensorboard with torch.\n",
    "import torch.utils.tensorboard as tb\n",
    "import tempfile\n",
    "\n",
    "# Log directory for storing tensorboard logs.\n",
    "log_dir = tempfile.mkdtemp()\n",
    "\n",
    "import os\n",
    "os.getcwd()\n",
    "\n",
    "x = 5\n",
    "\n"
   ]
  }
 ],
 "metadata": {
  "language_info": {
   "name": "python"
  }
 },
 "nbformat": 4,
 "nbformat_minor": 2
}

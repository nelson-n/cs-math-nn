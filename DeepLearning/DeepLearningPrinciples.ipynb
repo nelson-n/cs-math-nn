{
 "cells": [
  {
   "cell_type": "markdown",
   "metadata": {},
   "source": [
    "## Sections\n",
    "* Network Design Principles\n",
    "* Kernel Methods\n",
    "* Neural Networks\n",
    "* Linear Algebra and Probability for Deep Learning\n",
    "* Linear Classification / Linear Regression Models\n",
    "* Computational Graphs\n",
    "* Stochastic Gradient Descent (SGD)\n",
    "* Activation Functions\n",
    "* Convolutions\n",
    "* Optimization & Normalization\n",
    "* Residual Networks\n",
    "* Training Optimization\n",
    "* Reinforcement Learning"
   ]
  },
  {
   "cell_type": "markdown",
   "metadata": {},
   "source": [
    "---"
   ]
  },
  {
   "cell_type": "markdown",
   "metadata": {},
   "source": [
    "## Network Design Principles\n",
    "\n",
    "**Activations**\n",
    "- Always try ReLU first. \n",
    "- If you have peristant problems with dead ReLU aactivations try Leaky ReLU and PReLU.\n",
    "- Rarely use sigmoid or tanh as these functions backprop gradients poorly.\n",
    "\n",
    "**Loss Functions**\n",
    "- For continuous/regression output:\n",
    "    - L1 Loss / MSELoss\n",
    "- For classification with 2 classes:\n",
    "    - BCEWithLogitsLoss\n",
    "- For more than 2 classes:\n",
    "    - CrossEntropyLoss\n",
    "\n",
    "**Optimizer**\n",
    "- Generally use SGD with momentum.\n",
    "    - Momentum parameter rho should be set to 0.9.\n",
    "- For training small networks or working with small datasets use ADAM.\n",
    "    - ADAM B_1 parameter should be set to 0.9, B_2 parameter should be set to 0.999.\n",
    "\n",
    "**Learning Rate**\n",
    "- Try 1e-3 as the first default learning rate.\n",
    "- Use a learning rate scheduler to reduce learning rate at loss plateaus.\n",
    "- Learning rate general rule of thumb: use the largest learning rate that will train.\n",
    "\n",
    "**Batch Size**\n",
    "- Batch size / learning rate scaling rule: When the batch size is multiplied by K, multiply the learning rate by K.\n",
    " \n",
    "**Overfitting**\n",
    "- Methods for addressing overfitting:\n",
    "    * Dropout layers\n",
    "    * Weight Decay\n",
    "        * When using weight decay use 1e-4 as the default decay param\n",
    "\n",
    "**Convolution Neural Network Design Principals**\n",
    "- Trade spatial resolution (large x and y dimensions) for many channels.\n",
    "    - A good rule of thumb is to use stride=2 and output channels C2 = input channels C1 * 2.\n",
    "    - This increases the number of channels with each convolution and shrinks the x and y dimensions.\n",
    "- Keep kernels small.\n",
    "    - A 3x3 kernel should be used almost everywhere, apart from the first layer where a 7x7 kernel may be used."
   ]
  },
  {
   "cell_type": "markdown",
   "metadata": {},
   "source": [
    "---"
   ]
  },
  {
   "cell_type": "markdown",
   "metadata": {},
   "source": [
    "\n",
    "![](./NoteFiles/DL100.png)\n",
    "![](./NoteFiles/DL101.png)\n",
    "![](./NoteFiles/DL102.png)\n",
    "![](./NoteFiles/DL103.png)\n",
    "![](./NoteFiles/DL104.png)\n",
    "![](./NoteFiles/DL105.png)\n",
    "\n",
    "---\n",
    "\n",
    "![](./NoteFiles/DL106.png)\n",
    "![](./NoteFiles/DL107.png)\n",
    "![](./NoteFiles/DL108.png)\n",
    "\n",
    "---\n",
    "\n",
    "![](./NoteFiles/DL109.png)\n",
    "![](./NoteFiles/DL110.png)\n",
    "![](./NoteFiles/DL111.png)\n",
    "![](./NoteFiles/DL112.png)\n",
    "![](./NoteFiles/DL113.png)\n",
    "![](./NoteFiles/DL114.png)\n",
    "![](./NoteFiles/DL115.png)\n",
    "![](./NoteFiles/DL116.png)\n",
    "![](./NoteFiles/DL117.png)\n",
    "\n",
    "---\n",
    "\n",
    "![](./NoteFiles/DL118.png)\n",
    "![](./NoteFiles/DL119.png)\n",
    "![](./NoteFiles/DL120.png)\n",
    "![](./NoteFiles/DL121.png)\n",
    "![](./NoteFiles/DL122.png)\n",
    "![](./NoteFiles/DL123.png)\n",
    "![](./NoteFiles/DL124.png)\n",
    "![](./NoteFiles/DL125.png)\n",
    "\n",
    "---\n",
    "\n",
    "![](./NoteFiles/DL126.png)\n",
    "![](./NoteFiles/DL127.png)\n",
    "![](./NoteFiles/DL128.png)\n",
    "![](./NoteFiles/DL129.png)\n",
    "![](./NoteFiles/DL130.png)\n",
    "![](./NoteFiles/DL131.png)\n",
    "![](./NoteFiles/DL132.png)\n",
    "![](./NoteFiles/DL133.png)\n",
    "![](./NoteFiles/DL134.png)\n",
    "![](./NoteFiles/DL135.png)\n",
    "![](./NoteFiles/DL136.png)\n",
    "![](./NoteFiles/DL137.png)\n",
    "![](./NoteFiles/DL138.png)\n",
    "![](./NoteFiles/DL139.png)\n",
    "![](./NoteFiles/DL140.png)\n",
    "![](./NoteFiles/DL141.png)\n",
    "![](./NoteFiles/DL142.png)\n",
    "\n",
    "---\n"
   ]
  },
  {
   "cell_type": "markdown",
   "metadata": {},
   "source": [
    "---"
   ]
  }
 ],
 "metadata": {
  "language_info": {
   "name": "python"
  },
  "orig_nbformat": 4
 },
 "nbformat": 4,
 "nbformat_minor": 2
}

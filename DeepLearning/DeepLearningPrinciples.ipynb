{
 "cells": [
  {
   "cell_type": "markdown",
   "metadata": {},
   "source": [
    "## Sections\n",
    "* Kernel Methods\n",
    "* Neural Networks"
   ]
  },
  {
   "cell_type": "markdown",
   "metadata": {},
   "source": [
    "---"
   ]
  },
  {
   "cell_type": "markdown",
   "metadata": {},
   "source": [
    "\n",
    "![](./NoteFiles/DL100.png)\n",
    "![](./NoteFiles/DL101.png)\n",
    "![](./NoteFiles/DL102.png)\n",
    "![](./NoteFiles/ML103.png)\n",
    "![](./NoteFiles/ML104.png)\n",
    "![](./NoteFiles/ML105.png)\n",
    "\n",
    "---\n",
    "\n",
    "![](./NoteFiles/ML106.png)\n",
    "![](./NoteFiles/ML107.png)\n",
    "![](./NoteFiles/ML108.png)"
   ]
  },
  {
   "cell_type": "markdown",
   "metadata": {},
   "source": [
    "---"
   ]
  }
 ],
 "metadata": {
  "language_info": {
   "name": "python"
  },
  "orig_nbformat": 4
 },
 "nbformat": 4,
 "nbformat_minor": 2
}

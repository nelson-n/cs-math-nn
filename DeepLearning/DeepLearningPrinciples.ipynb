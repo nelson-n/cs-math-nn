{
 "cells": [
  {
   "cell_type": "markdown",
   "metadata": {},
   "source": [
    "## Sections\n",
    "* Kernel Methods\n",
    "* Neural Networks\n",
    "* Linear Algebra and Probability for Deep Learning\n",
    "* Linear Classification / Linear Regression Models\n",
    "* Computational Graphs"
   ]
  },
  {
   "cell_type": "markdown",
   "metadata": {},
   "source": [
    "---"
   ]
  },
  {
   "cell_type": "markdown",
   "metadata": {},
   "source": [
    "\n",
    "![](./NoteFiles/DL100.png)\n",
    "![](./NoteFiles/DL101.png)\n",
    "![](./NoteFiles/DL102.png)\n",
    "![](./NoteFiles/DL103.png)\n",
    "![](./NoteFiles/DL104.png)\n",
    "![](./NoteFiles/DL105.png)\n",
    "\n",
    "---\n",
    "\n",
    "![](./NoteFiles/DL106.png)\n",
    "![](./NoteFiles/DL107.png)\n",
    "![](./NoteFiles/DL108.png)\n",
    "\n",
    "---\n",
    "\n",
    "![](./NoteFiles/DL109.png)\n",
    "![](./NoteFiles/DL110.png)\n",
    "![](./NoteFiles/DL111.png)\n",
    "![](./NoteFiles/DL112.png)\n",
    "![](./NoteFiles/DL113.png)\n",
    "![](./NoteFiles/DL114.png)\n",
    "![](./NoteFiles/DL115.png)\n",
    "![](./NoteFiles/DL116.png)\n",
    "![](./NoteFiles/DL117.png)\n",
    "\n",
    "---\n"
   ]
  },
  {
   "cell_type": "markdown",
   "metadata": {},
   "source": [
    "---"
   ]
  }
 ],
 "metadata": {
  "language_info": {
   "name": "python"
  },
  "orig_nbformat": 4
 },
 "nbformat": 4,
 "nbformat_minor": 2
}

{
 "cells": [
  {
   "cell_type": "markdown",
   "metadata": {},
   "source": [
    "## Sections\n",
    "* Kernel Methods\n",
    "* Neural Networks\n",
    "* Linear Algebra and Probability for Deep Learning\n",
    "* Linear Classification / Linear Regression Models\n",
    "* Computational Graphs"
   ]
  },
  {
   "cell_type": "markdown",
   "metadata": {},
   "source": [
    "---"
   ]
  },
  {
   "cell_type": "markdown",
   "metadata": {},
   "source": [
    "\n",
    "![](./NoteFiles/DL100.png)\n",
    "![](./NoteFiles/DL101.png)\n",
    "![](./NoteFiles/DL102.png)\n",
    "![](./NoteFiles/DL103.png)\n",
    "![](./NoteFiles/DL104.png)\n",
    "![](./NoteFiles/DL105.png)\n",
    "\n",
    "---\n",
    "\n",
    "![](./NoteFiles/DL106.png)\n",
    "![](./NoteFiles/DL107.png)\n",
    "![](./NoteFiles/DL108.png)\n",
    "\n",
    "---\n",
    "\n",
    "![](./NoteFiles/DL109.png)\n",
    "![](./NoteFiles/DL110.png)\n",
    "![](./NoteFiles/DL111.png)\n",
    "![](./NoteFiles/DL112.png)\n",
    "![](./NoteFiles/DL113.png)\n",
    "![](./NoteFiles/DL114.png)\n",
    "![](./NoteFiles/DL115.png)\n",
    "![](./NoteFiles/DL116.png)\n",
    "![](./NoteFiles/DL117.png)\n",
    "\n",
    "---\n",
    "\n",
    "![](./NoteFiles/DL118.png)\n",
    "![](./NoteFiles/DL119.png)\n",
    "![](./NoteFiles/DL120.png)\n",
    "![](./NoteFiles/DL121.png)\n",
    "![](./NoteFiles/DL122.png)\n",
    "![](./NoteFiles/DL123.png)\n",
    "![](./NoteFiles/DL124.png)\n",
    "![](./NoteFiles/DL125.png)\n",
    "\n",
    "---\n",
    "\n",
    "![](./NoteFiles/DL126.png)\n",
    "![](./NoteFiles/DL127.png)\n",
    "![](./NoteFiles/DL128.png)\n",
    "![](./NoteFiles/DL129.png)\n",
    "![](./NoteFiles/DL130.png)\n",
    "![](./NoteFiles/DL131.png)\n",
    "![](./NoteFiles/DL132.png)\n",
    "![](./NoteFiles/DL133.png)\n",
    "![](./NoteFiles/DL134.png)\n",
    "![](./NoteFiles/DL135.png)\n",
    "![](./NoteFiles/DL136.png)\n",
    "![](./NoteFiles/DL137.png)\n",
    "![](./NoteFiles/DL138.png)\n",
    "![](./NoteFiles/DL139.png)\n",
    "![](./NoteFiles/DL140.png)\n",
    "![](./NoteFiles/DL141.png)\n",
    "![](./NoteFiles/DL142.png)\n",
    "\n",
    "---\n"
   ]
  },
  {
   "cell_type": "markdown",
   "metadata": {},
   "source": [
    "---"
   ]
  }
 ],
 "metadata": {
  "language_info": {
   "name": "python"
  },
  "orig_nbformat": 4
 },
 "nbformat": 4,
 "nbformat_minor": 2
}

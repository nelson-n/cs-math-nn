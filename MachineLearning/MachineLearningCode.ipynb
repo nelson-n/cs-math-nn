{
 "cells": [
  {
   "cell_type": "code",
   "execution_count": null,
   "metadata": {},
   "outputs": [],
   "source": [
    "\n",
    "import matplotlib.pyplot as plt\n",
    "import numpy as np\n",
    "from sklearn import tree, ensemble\n",
    "from sklearn.model_selection import cross_val_score\n",
    "from sklearn.datasets import load_breast_cancer\n",
    "from sklearn.model_selection import KFold\n",
    "from collections import defaultdict\n",
    "import pprint"
   ]
  },
  {
   "cell_type": "markdown",
   "metadata": {},
   "source": [
    "Many of the following code examples utilize the following cancer recognition dataset."
   ]
  },
  {
   "cell_type": "code",
   "execution_count": 1,
   "metadata": {},
   "outputs": [],
   "source": [
    "from sklearn import datasets\n",
    "import pandas as pd\n",
    "\n",
    "CancerDataset = datasets.load_breast_cancer()\n",
    "\n",
    "Features = pd.DataFrame(CancerDataset.data, columns = CancerDataset.feature_names)\n",
    "Labels = pd.DataFrame(CancerDataset.target, columns = ['label'])"
   ]
  },
  {
   "cell_type": "markdown",
   "metadata": {},
   "source": [
    "### Decision Tree"
   ]
  },
  {
   "cell_type": "code",
   "execution_count": 15,
   "metadata": {},
   "outputs": [
    {
     "data": {
      "text/plain": [
       "0.9947275922671354"
      ]
     },
     "execution_count": 15,
     "metadata": {},
     "output_type": "execute_result"
    }
   ],
   "source": [
    "from sklearn import tree\n",
    "\n",
    "DecTreeModel = tree.DecisionTreeClassifier(max_depth = 5)\n",
    "DecTree = DecTreeModel.fit(Features, Labels)\n",
    "\n",
    "Predictions = DecTree.predict(Features)\n",
    "\n",
    "sum(Predictions == Labels['label']) / len(Labels)"
   ]
  },
  {
   "cell_type": "markdown",
   "metadata": {},
   "source": [
    "### K-fold Cross Validation"
   ]
  },
  {
   "cell_type": "code",
   "execution_count": 14,
   "metadata": {},
   "outputs": [
    {
     "data": {
      "text/plain": [
       "array([0.92982456, 0.9122807 , 0.94736842, 0.94736842, 0.92982456,\n",
       "       0.94736842, 0.96491228, 0.9122807 , 0.96491228, 0.89285714])"
      ]
     },
     "execution_count": 14,
     "metadata": {},
     "output_type": "execute_result"
    }
   ],
   "source": [
    "from sklearn.model_selection import KFold\n",
    "from sklearn.model_selection import cross_val_score\n",
    "\n",
    "DecTreeModel = tree.DecisionTreeClassifier(max_depth = 5)\n",
    "KfoldDecTree = KFold(n_splits = 10, shuffle = True)\n",
    "\n",
    "cross_val_score(DecTreeModel, Features, Labels['label'], cv = KfoldDecTree)"
   ]
  },
  {
   "cell_type": "markdown",
   "metadata": {},
   "source": [
    "### Random Forest"
   ]
  },
  {
   "cell_type": "code",
   "execution_count": 10,
   "metadata": {},
   "outputs": [
    {
     "data": {
      "text/plain": [
       "array([0.96491228, 0.98245614, 0.87719298, 0.96491228, 0.94736842,\n",
       "       0.94736842, 0.98245614, 1.        , 0.94736842, 0.94642857])"
      ]
     },
     "execution_count": 10,
     "metadata": {},
     "output_type": "execute_result"
    }
   ],
   "source": [
    "from sklearn.ensemble import RandomForestClassifier\n",
    "\n",
    "RandomForestModel = RandomForestClassifier(n_estimators = 10, max_depth = 5)\n",
    "KfoldRandomForest = KFold(n_splits=10, shuffle=True)\n",
    "\n",
    "cross_val_score(RandomForestModel, Features, Labels['label'], cv = KfoldRandomForest)"
   ]
  },
  {
   "cell_type": "markdown",
   "metadata": {},
   "source": [
    "### Logistic Regression"
   ]
  },
  {
   "cell_type": "code",
   "execution_count": 12,
   "metadata": {},
   "outputs": [
    {
     "name": "stderr",
     "output_type": "stream",
     "text": [
      "/Library/Frameworks/Python.framework/Versions/3.11/lib/python3.11/site-packages/sklearn/linear_model/_logistic.py:460: ConvergenceWarning: lbfgs failed to converge (status=1):\n",
      "STOP: TOTAL NO. of ITERATIONS REACHED LIMIT.\n",
      "\n",
      "Increase the number of iterations (max_iter) or scale the data as shown in:\n",
      "    https://scikit-learn.org/stable/modules/preprocessing.html\n",
      "Please also refer to the documentation for alternative solver options:\n",
      "    https://scikit-learn.org/stable/modules/linear_model.html#logistic-regression\n",
      "  n_iter_i = _check_optimize_result(\n"
     ]
    }
   ],
   "source": [
    "from sklearn.linear_model import LogisticRegression\n",
    "\n",
    "RegressionModel = LogisticRegression(max_iter = 100)\n",
    "Regression = RegressionModel.fit(Features, Labels['label'])\n",
    "\n",
    "Coefficients = Regression.coef_"
   ]
  },
  {
   "cell_type": "markdown",
   "metadata": {},
   "source": [
    "### Adaboost"
   ]
  },
  {
   "cell_type": "code",
   "execution_count": 16,
   "metadata": {},
   "outputs": [
    {
     "data": {
      "text/plain": [
       "array([0.96491228, 0.89473684, 0.94736842, 0.94736842, 1.        ,\n",
       "       1.        , 0.94736842, 0.9122807 , 0.92982456, 0.96428571])"
      ]
     },
     "execution_count": 16,
     "metadata": {},
     "output_type": "execute_result"
    }
   ],
   "source": [
    "from sklearn.ensemble import AdaBoostClassifier\n",
    "\n",
    "DecTreeModel = tree.DecisionTreeClassifier(max_depth = 5)\n",
    "AdaBoostModel = AdaBoostClassifier(estimator = DecTreeModel, n_estimators = 10, learning_rate = 1)\n",
    "KfoldAdaBoost = KFold(n_splits = 10, shuffle = True)\n",
    "\n",
    "cross_val_score(AdaBoostModel, Features, Labels['label'], cv = KfoldAdaBoost)"
   ]
  },
  {
   "cell_type": "markdown",
   "metadata": {},
   "source": [
    "### Gradient Descent\n",
    "* Given a square loss function: \n",
    "$$\\frac{1}{2}(\\sigma (w' \\cdot x) - y)^2$$\n",
    "\n",
    "* Where $\\sigma$ is the sigmoid activation function: \n",
    "$$\\frac{1}{(1 + e^{-x})}$$\n",
    "\n",
    "* And thus the gradient of the loss function with respect to the weights is:\n",
    "\n",
    "$$ \n",
    "\\frac{\\partial f}{\\partial w} = (\\sigma(w' \\cdot x_i) - y_i) * \\sigma(w' \\cdot x_i) * (1 - \\sigma(w' \\cdot x_i)) * x_i\n",
    "$$\n"
   ]
  },
  {
   "cell_type": "code",
   "execution_count": null,
   "metadata": {},
   "outputs": [],
   "source": [
    "def sigmoid(x):\n",
    "    return 1 / (1 + np.exp(-x))\n",
    "\n",
    "# Learning rate.\n",
    "eta = 0.01\n",
    "\n",
    "# Generate true weights (w), observations (X), and labels (Y).\n",
    "w, X, Y = GenerateData(m)\n",
    "\n",
    "# Initialize weights.\n",
    "w_prime = np.zeros(10)\n",
    "\n",
    "gradient = np.zeros(10)\n",
    "\n",
    "for o in range(n_iters):\n",
    "\n",
    "    # Iterate through each data point in X, Y.\n",
    "    for i in range(m):\n",
    "\n",
    "        x_i = X[i]\n",
    "        y_i = Y[i]\n",
    "\n",
    "        gradient += (sigmoid(w_prime @ x_i) - y_i) * sigmoid(w_prime @ x_i) * (1 - sigmoid(w_prime @ x_i)) * x_i\n",
    "\n",
    "    # Calculate the gradient for the whole dataset as the average of the summed\n",
    "    # gradients from each data point.\n",
    "    gradient = gradient / m\n",
    "\n",
    "    w_prime = w_prime - eta * gradient\n"
   ]
  },
  {
   "cell_type": "markdown",
   "metadata": {},
   "source": [
    "### Stochastic Gradient Descent"
   ]
  }
 ],
 "metadata": {
  "kernelspec": {
   "display_name": "Python 3",
   "language": "python",
   "name": "python3"
  },
  "language_info": {
   "codemirror_mode": {
    "name": "ipython",
    "version": 3
   },
   "file_extension": ".py",
   "mimetype": "text/x-python",
   "name": "python",
   "nbconvert_exporter": "python",
   "pygments_lexer": "ipython3",
   "version": "3.11.1"
  },
  "orig_nbformat": 4
 },
 "nbformat": 4,
 "nbformat_minor": 2
}

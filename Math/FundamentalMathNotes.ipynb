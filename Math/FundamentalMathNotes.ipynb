{
 "cells": [
  {
   "cell_type": "markdown",
   "metadata": {},
   "source": [
    "## Sections\n",
    "* Approximations\n",
    "* Permutations\n",
    "* Statistics Basics\n",
    "\n",
    "---"
   ]
  },
  {
   "cell_type": "markdown",
   "metadata": {},
   "source": [
    "## Approximations\n",
    "\n",
    "$(1-x) \\approx e^{-x}$"
   ]
  },
  {
   "cell_type": "markdown",
   "metadata": {},
   "source": [
    "---"
   ]
  },
  {
   "cell_type": "markdown",
   "metadata": {},
   "source": [
    "## Combinatorics | Permutations\n",
    "**Combinatorics** = the number of combinations of $R$ distinct objects we can make from a set of $N$ objects.\n",
    "\n",
    "$$C_N = \\frac{N!}{R! \\cdot (N-R)!}$$\n",
    "\n",
    "* Note that if we are choosing all $N$ objects such as the number of combinations of the numbers 1-5 then the equation simplifies to: $C_N = N!$\n",
    "*   Note that this is the same as the permutations equation when choosing all $N$ objects.\n",
    "\n",
    "**Permutations** = the number of ways we can arrange $R$ distinct objects out of a set of $N$ objects (order matters).\n",
    "$$P_R = \\frac{N!}{(N-R)!}$$\n",
    "\n"
   ]
  },
  {
   "cell_type": "markdown",
   "metadata": {},
   "source": [
    "---"
   ]
  },
  {
   "cell_type": "markdown",
   "metadata": {},
   "source": [
    "## Statistics Basics\n",
    "**Variance** = $Var[X] = E[(X - E[X])^2]$\n",
    "* alternatively: $S^2 = \\frac{\\sum_{i=1}^n (x_i - \\bar{x})^2}{n-1}$\n",
    "\n",
    "**Standard Deviation** = $\\sqrt{Var[X]} = \\sigma$"
   ]
  }
 ],
 "metadata": {
  "language_info": {
   "name": "python"
  },
  "orig_nbformat": 4
 },
 "nbformat": 4,
 "nbformat_minor": 2
}

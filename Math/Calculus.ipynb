{
 "cells": [
  {
   "attachments": {},
   "cell_type": "markdown",
   "metadata": {},
   "source": [
    "\n",
    "### Calculus Notes\n",
    "\n",
    "https://en.wikipedia.org/wiki/List_of_calculus_topics\n",
    "\n",
    "Cover:\n",
    "* Limits\n",
    "* Derivatives\n",
    "    * Leibniz Notation\n",
    "    * Newtonian Notation\n",
    "    * Power Rule\n",
    "    * Chain Rule\n",
    "    * Product Rule\n",
    "    * Quotient Rule\n",
    "    * Second derivative, third derivative\n",
    "* Taylor Rule\n",
    "* L'Hopital Rule\n",
    "* Differential Equations\n",
    "* Integrals\n",
    "    * Sum rule of integration\n",
    "    * Integration by parts\n",
    "    * Fundamental theorem of calculus\n",
    "* Multivariable Calculus\n",
    "    * Partial derivative\n",
    "* Series "
   ]
  },
  {
   "cell_type": "code",
   "execution_count": null,
   "metadata": {
    "vscode": {
     "languageId": "julia"
    }
   },
   "outputs": [],
   "source": []
  }
 ],
 "metadata": {
  "language_info": {
   "name": "python"
  },
  "orig_nbformat": 4
 },
 "nbformat": 4,
 "nbformat_minor": 2
}

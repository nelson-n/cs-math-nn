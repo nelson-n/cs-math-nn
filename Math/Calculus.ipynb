{
 "cells": [
  {
   "attachments": {},
   "cell_type": "markdown",
   "metadata": {},
   "source": [
    "\n",
    "### Calculus Notes\n",
    "\n",
    "https://en.wikipedia.org/wiki/List_of_calculus_topics\n",
    "\n",
    "Cover:\n",
    "* Limits\n",
    "* Derivatives\n",
    "    * Leibniz Notation\n",
    "    * Newtonian Notation\n",
    "    * Power Rule\n",
    "    * Chain Rule\n",
    "    * Product Rule\n",
    "    * Quotient Rule\n",
    "    * Second derivative, third derivative\n",
    "* Taylor Rule\n",
    "* L'Hopital Rule\n",
    "* Differential Equations\n",
    "* Integrals\n",
    "    * Sum rule of integration\n",
    "    * Integration by parts\n",
    "    * Fundamental theorem of calculus\n",
    "* Multivariable Calculus\n",
    "    * Partial derivative\n",
    "* Series "
   ]
  },
  {
   "attachments": {},
   "cell_type": "markdown",
   "metadata": {},
   "source": [
    "\n",
    "$\\frac{d}{dx}\\left(f(g(x))\\right) = f'(g(x))g'(x)$ : The chain rule for derivatives.\n",
    "\n",
    "$\\frac{d}{dx}\\left(\\frac{f(x)}{g(x)}\\right) = \\frac{f'(x)g(x) - g'(x)f(x)}{(g(x))^2}$: The quotient rule for derivatives.\n",
    "\n",
    "$\\frac{d}{dx}\\left(f(x)g(x)\\right) = f'(x)g(x) + f(x)g'(x)$ : The product rule for derivatives.\n",
    "\n",
    "$\\frac{d}{dx}\\left(e^{f(x)}\\right) = f'(x)e^{f(x)}$ : The derivative of $e^{f(x)}$.\n",
    "\n",
    "$\\frac{d}{dx}\\left(\\ln(f(x))\\right) = \\frac{f'(x)}{f(x)}$ : The derivative of $\\ln(f(x))$."
   ]
  },
  {
   "cell_type": "code",
   "execution_count": null,
   "metadata": {
    "vscode": {
     "languageId": "julia"
    }
   },
   "outputs": [],
   "source": []
  }
 ],
 "metadata": {
  "language_info": {
   "name": "python"
  },
  "orig_nbformat": 4
 },
 "nbformat": 4,
 "nbformat_minor": 2
}

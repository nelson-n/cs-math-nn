{
 "cells": [
  {
   "attachments": {},
   "cell_type": "markdown",
   "metadata": {},
   "source": [
    "\n",
    "### Calculus Notes\n",
    "\n",
    "Cover:\n",
    "* L'Hopital Rule\n",
    "* Differential Equations\n",
    "* Integrals\n",
    "    * Sum rule of integration\n",
    "    * Integration by parts\n",
    "    * Fundamental theorem of calculus\n",
    "* Multivariable Calculus\n",
    "    * Partial derivative\n",
    "* Series "
   ]
  },
  {
   "cell_type": "markdown",
   "metadata": {},
   "source": [
    "## Sections\n",
    "* General Definitions\n",
    "* Calculus Notation\n",
    "* Derivative Rules\n",
    "* Common Derivatives\n",
    "* Taylor Series"
   ]
  },
  {
   "cell_type": "markdown",
   "metadata": {},
   "source": [
    "---"
   ]
  },
  {
   "cell_type": "markdown",
   "metadata": {},
   "source": [
    "## General Definitions\n",
    "* **Ordinary Derivative** = derivative of a function with a single independent variable, notated for $y = f(x)$ as: \n",
    "\n",
    "$$\\frac{dy}{dx} = \\frac{d}{dx}(f(x)) = f'(x) \\text{: the derivative of y with respect to x}$$\n",
    "\n",
    "\n",
    "* **Partial Derivative** = derivative of a function with multiple variables, notated for $z = f(x,y)$ as: \n",
    "$$\\frac{\\partial f}{\\partial x} \\text{: the derivative of z with respect to x}$$\n",
    "$$\\frac{\\partial f}{\\partial y} \\text{: the derivative of z with respect to y}$$ \n",
    "$$\\frac{\\partial}{\\partial x} f(x,y) \\text{: the derivative of z with respect to x}$$\n"
   ]
  },
  {
   "cell_type": "markdown",
   "metadata": {},
   "source": [
    "---"
   ]
  },
  {
   "cell_type": "markdown",
   "metadata": {},
   "source": [
    "## Notation\n",
    "\n",
    "#### Leibniz Notation\n",
    "\n",
    "**Derivatives**\n",
    "* Leibniz notation is common when working with an equation of the form $y = f(x)$ representing a functional relationship between dependent and independent variables.\n",
    "* The derivative of $y$ with respect to $x$ is represented as:\n",
    "$$\\frac{dy}{dx}$$\n",
    "* Higher derivatives are written as:\n",
    "$$\\frac{d^2y}{dx^2}, \\frac{d^3y}{dx^3}, ... , \\frac{d^ny}{dx^n}$$\n",
    "* This notation comes from the fact that the derivative of the first derivative is:\n",
    "$$\\frac{d(\\frac{dy}{dx})}{dx} = \\frac{d}{dx} \\cdot \\frac{d}{dx} \\cdot y = (\\frac{d}{dx})^2 y = \\frac{d^2y}{dx^2}$$\n",
    "* The symbol $d$ does not have meaning on its own but may be treated as representations of infintitesimals.\n",
    "* $dx$ can be thought of as a tiny change $\\Delta x$ while $dy$ represents how $y$ changes infintesimally as a results of a tiny change in $x$.\n",
    "* Using Leibniz notation we can define $dy$ on its own as:\n",
    "$$dy = \\frac{dy}{dx} \\cdot dx$$\n",
    "* From this we can also express how $y$ changes as a results of a tiny change in $x$ using **Lagrange's Notation**:\n",
    "$$dy =  y' \\cdot dx$$\n",
    "$$df =  f'(x) \\cdot dx$$\n",
    "\n",
    "<br>\n",
    "<br>\n",
    "\n",
    "* For example, take the differential equation for Geometric Brownian Motion:\n",
    "\n",
    "$$dS_t = \\mu S_t dt + \\sigma S_t dW_t$$\n",
    "\n",
    "* Where $S$ is the value being modeled, $\\mu$ is the drift term, $\\sigma$ is the volatility term, and $W$ is a Wiener process.\n",
    "* This formula expresses how $S_t$ changes as a result of a tiny change in $t$ and a tiny change in the Wiener process $W_t$.\n",
    "\n",
    "**Integrals**\n",
    "\n",
    "* In Leibniz notation integrals are expressed as:\n",
    "\n",
    "$$\\int y' dx = \\int f'(x) dx = f(x) + C = y + C$$\n",
    "\n",
    "* Where $C$ represents the arbitrary constant of integration. Because constants have a derivative of zero, any constant can be added to the integral and it will still be a valid solution.\n"
   ]
  },
  {
   "cell_type": "markdown",
   "metadata": {},
   "source": [
    "#### Partial Derivative Notation\n",
    "* We can use partial derivative notation to express the derivative of a function with respect to a single variable while holding all other variables constant.\n",
    "* We can express the partial derivative of a function $f(x, y, z)$ with respect to $x$, but not $y$ or $z$ as:\n",
    "$$\\frac{\\partial f}{\\partial x}$$\n",
    "* Higher order partial derivatives are written as:\n",
    "$$\\frac{\\partial^2 f}{\\partial x^2}, \\frac{\\partial^3 f}{\\partial x^3}, ... , \\frac{\\partial^nf}{\\partial x^n}$$"
   ]
  },
  {
   "cell_type": "markdown",
   "metadata": {},
   "source": [
    "### Vector Calculus Notation\n",
    "\n",
    "* Used for differentiation and integration of vector fields and scalar fields.\n",
    "\n",
    "* **Vector Field** = assignment of a vector to each point in Euclidean space, a vector field $A$ in 3-dimensions can be represented as:\n",
    "\n",
    "$$A = A_x, A_y, A_z$$\n",
    "\n",
    "* **Scalar Field** = function assigning a single number to every point in Euclidean space represented as:\n",
    "\n",
    "$$\\rho = \\rho(x,y,z)$$\n",
    "\n",
    "* **Del / Nabla** = vector differential operator represented as:\n",
    "* Represents the partial derivative at each point in space of a vector field or scalar field.\n",
    "\n",
    "$$\\nabla = \\frac{\\partial}{\\partial x}, \\frac{\\partial}{\\partial y}, \\frac{\\partial}{\\partial z}$$\n",
    "\n",
    "* **Gradient** = the gradient $grad(\\rho)$ of a scalar field $\\rho$ is a vector field where the vector at each point (x, y, z) represents the direction of the steepest slope with respect to that point (x, y, z), it is calculated as the dot product of $\\nabla$ and $\\rho$: \n",
    "* The gradient is the $\\nabla$ of a scalar field $\\rho$.\n",
    "\n",
    "$$grad(\\rho) = \\nabla \\rho = \\frac{\\partial \\rho}{\\partial x}, \\frac{\\partial \\rho}{\\partial y}, \\frac{\\partial \\rho}{\\partial z}$$\n",
    "\n",
    "* **Divergence** = the divergence of a vector field $A$ gives you a scalar field representing the magnitude of a vector field's source or sink at a given point, the divergence is symbolically represented as the dot product of $\\nabla$ and $A$:\n",
    "* The divergence is the $\\nabla$ of a vector field $A$.\n",
    "\n",
    "$$div(A) = \\nabla \\cdot A = \\frac{\\partial A_x}{\\partial x} + \\frac{\\partial A_y}{\\partial y} + \\frac{\\partial A_z}{\\partial z}$$\n",
    "\n",
    "* **Laplacian** = the Laplacian $div(grad(\\rho))$ of a scalar field $\\rho$ is the divergence of the gradient of $\\rho$.\n",
    "* The Laplacian takes a scalar field $\\rho$ as input, computes the gradient of $\\rho$ which returns a vector field, then computes the divergence of that vector field which returns a scalar field representing the magnitude of the source or sink of the gradient at each point in space (i.e. the rate at which the scalar field $\\rho$ is changing at each point in space).\n",
    "\n",
    "$$\\nabla^2 \\rho = \\nabla \\cdot \\nabla \\rho = \\frac{\\partial^2 \\rho}{\\partial x^2} + \\frac{\\partial^2 \\rho}{\\partial y^2} + \\frac{\\partial^2 \\rho}{\\partial z^2}$$\n"
   ]
  },
  {
   "cell_type": "markdown",
   "metadata": {},
   "source": [
    "---"
   ]
  },
  {
   "cell_type": "markdown",
   "metadata": {},
   "source": [
    "## Derivative Rules\n",
    "\n",
    "**Power Rule**\n",
    "$$\\frac{d}{dx} x^n = nx^{n-1}$$\n",
    "$$\\frac{d}{dx} x^3 = 3x^2$$\n",
    "\n",
    "**Chain Rule**\n",
    "$$\\frac{d}{dx} f(g(x)) = f'(g(x)) \\cdot g'(x)$$\n",
    "$$\\frac{d}{dx} (x^2 + 1)^3 = 3(x^2 + 1)^2 \\cdot 2x$$\n",
    "\n",
    "**Product Rule**\n",
    "$$\\frac{d}{dx} f(x) \\cdot g(x) = f'(x) \\cdot g(x) + f(x) \\cdot g'(x)$$\n",
    "$$\\frac{d}{dx} (x^2 + 1) \\cdot (x^3 + 1) = (2x) \\cdot (x^3 + 1) + (x^2 + 1) \\cdot (3x^2)$$\n",
    "\n",
    "**Quotient Rule**\n",
    "$$\\frac{d}{dx} \\frac{f(x)}{g(x)} = \\frac{f'(x) \\cdot g(x) - f(x) \\cdot g'(x)}{g(x)^2}$$\n",
    "$$\\frac{d}{dx} \\frac{x^2 + 1}{x^3 + 1} = \\frac{(2x) \\cdot (x^3 + 1) - (x^2 + 1) \\cdot (3x^2)}{(x^3 + 1)^2}$$\n",
    "\n",
    "**Second Derivative**\n",
    "$$\\frac{d^2}{dx^2} f(x) = \\frac{d}{dx} \\frac{d}{dx} f(x) = \\frac{d}{dx} f'(x) = f''(x)$$\n",
    "$$\\frac{d^2}{dx^2} x^3 = \\frac{d}{dx} 3x^2 = 6x$$\n",
    "\n",
    "**Third Derivative**\n",
    "$$\\frac{d^3}{dx^3} f(x) = \\frac{d}{dx} \\frac{d^2}{dx^2} f(x) = \\frac{d}{dx} f''(x) = f'''(x)$$\n",
    "$$\\frac{d^3}{dx^3} x^3 = \\frac{d}{dx} 6x = 6$$\n",
    "\n"
   ]
  },
  {
   "cell_type": "markdown",
   "metadata": {},
   "source": [
    "\n",
    "---"
   ]
  },
  {
   "cell_type": "markdown",
   "metadata": {},
   "source": [
    "## Common Derivatives\n",
    "\n",
    "Derivative of $e^x$: $\\frac{d}{dx}\\left(e^x\\right) = e^x$\n",
    "\n",
    "Derivative of $e^{f(x)}$: $\\frac{d}{dx}\\left(e^{f(x)}\\right) = f'(x)e^{f(x)}$ \n",
    "\n",
    "Derivative of $\\ln(x)$: $\\frac{d}{dx}\\left(\\ln(x)\\right) = \\frac{1}{x}$\n",
    "\n",
    "Derivative of $\\ln(f(x))$: $\\frac{d}{dx}\\left(\\ln(f(x))\\right) = \\frac{f'(x)}{f(x)}$ "
   ]
  },
  {
   "cell_type": "markdown",
   "metadata": {},
   "source": [
    "---"
   ]
  },
  {
   "cell_type": "markdown",
   "metadata": {},
   "source": [
    "## Taylor Series\n",
    "\n",
    "* Taylor series are used to approximate functions as an infinite sum of terms.\n",
    "* Taylor series/expansion is an infinite sum of terms that are calculated from the values of a function's derivatives at a single point.\n",
    "* For most functions, the sum of the first few terms of the Taylor series will approximate the function well near that point.\n",
    "* The partial sum formed by the first $n+1$ terms of the Taylor series is a polynomial of degree $n$ called the $n$th Taylor polynomial of the function.\n",
    "* Taylor polynomials become more accurate as the number of terms $n$ increases.\n",
    "* Taylor series are useful because polynomials are much easy to work with, easy to compute, easy to take derivative of, etc.\n",
    "\n",
    "* Example: finding the Taylor Series approximation of $cos(x)$ at $x = 0$:\n",
    "    * First polynomial term equals the value of the function at $x = 0$: $cos(0) = 1$\n",
    "    * First derivative of $cos(x)$: $-\\sin(0) = 0$\n",
    "    * Second polynomial term equals the value of the first derivative at $x = 0$: $0x$ because $\\frac{d}{dx} 0x = 0$\n",
    "    * Second derivative of $cos(x)$: $-\\cos(0) = -1$\n",
    "    * Third polynomial term equals the value of the second derivative at $x = 0$: $-\\frac{1}{2}x^2$ because $\\frac{d}{d^2x} -\\frac{1}{2}x^2 = -1$\n",
    "    * Third derivative of $cos(x)$: $\\sin(0) = 0$\n",
    "    * Fourth polynomial term equals the value of the third derivative at $x = 0$: $0x^3$ because $\\frac{d}{d^3x} 0x^3 = 0$\n",
    "    * Fourth derivative of $cos(x)$: $\\cos(0) = 1$\n",
    "    * Fifth polynomial term equals the value of the fourth derivative at $x = 0$: $\\frac{1}{24}x^4$ because $\\frac{d}{d^4x} \\frac{1}{24}x^4 = 1$\n",
    "\n",
    "    * Thus the Taylor Series of $cos(x)$ is: $f(x) = 1 + 0x - \\frac{1}{2}x^2 + 0x^3 + \\frac{1}{24}x^4 + ...$\n",
    "\n",
    "\n"
   ]
  },
  {
   "cell_type": "code",
   "execution_count": 2,
   "metadata": {},
   "outputs": [
    {
     "name": "stdout",
     "output_type": "stream",
     "text": [
      "cos(0) =  1.0\n",
      "TaylorSeries(0) =  1.0\n",
      "\n",
      "\n",
      "cos(0.1) =  0.9950041652780258\n",
      "TaylorSeries(0.1) =  0.9950041666666667\n",
      "\n",
      "\n",
      "cos(1) =  0.5403023058681398\n",
      "TaylorSeries(1) =  0.5416666666666666\n",
      "\n",
      "\n",
      "cos(10) =  -0.8390715290764524\n",
      "TaylorSeries(10) =  367.66666666666663\n"
     ]
    }
   ],
   "source": [
    "import math\n",
    "\n",
    "# Taylor Series Approximation\n",
    "def TaylorSeries(x):\n",
    "    return 1 + 0*x - 1/2*x**2 + 0*x**3 + 1/24*x**4\n",
    "\n",
    "# At x = 0 the Taylor Series is a perfect approximation.\n",
    "print(\"cos(0) = \", math.cos(0))\n",
    "print(\"TaylorSeries(0) = \", TaylorSeries(0))\n",
    "print(\"\\n\")\n",
    "\n",
    "# Around x = 0 the Taylor Series is a good approximation.\n",
    "print(\"cos(0.1) = \", math.cos(0.1))\n",
    "print(\"TaylorSeries(0.1) = \", TaylorSeries(0.1))\n",
    "print(\"\\n\")\n",
    "\n",
    "print(\"cos(1) = \", math.cos(1))\n",
    "print(\"TaylorSeries(1) = \", TaylorSeries(1))\n",
    "print(\"\\n\")\n",
    "\n",
    "# Afar from x = 0 the Taylor Series is a bad approximation.\n",
    "print(\"cos(10) = \", math.cos(10))\n",
    "print(\"TaylorSeries(10) = \", TaylorSeries(10))\n"
   ]
  },
  {
   "cell_type": "markdown",
   "metadata": {},
   "source": [
    "* The general form of the Taylor series for a function $f(x)$ at $x = a$ is:\n",
    "$$f(x) = f(a) + \\frac{f'(a)}{1!}(x-a) + \\frac{f''(a)}{2!}(x-a)^2 + \\frac{f'''(a)}{3!}(x-a)^3 + ...$$\n",
    "\n",
    "* **Maclaurin Series** = Taylor series centered at $x = 0$."
   ]
  }
 ],
 "metadata": {
  "kernelspec": {
   "display_name": "Python 3",
   "language": "python",
   "name": "python3"
  },
  "language_info": {
   "codemirror_mode": {
    "name": "ipython",
    "version": 3
   },
   "file_extension": ".py",
   "mimetype": "text/x-python",
   "name": "python",
   "nbconvert_exporter": "python",
   "pygments_lexer": "ipython3",
   "version": "3.11.1"
  },
  "orig_nbformat": 4
 },
 "nbformat": 4,
 "nbformat_minor": 2
}

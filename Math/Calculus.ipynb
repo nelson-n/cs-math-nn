{
 "cells": [
  {
   "attachments": {},
   "cell_type": "markdown",
   "metadata": {},
   "source": [
    "\n",
    "### Calculus Notes\n",
    "\n",
    "https://en.wikipedia.org/wiki/List_of_calculus_topics\n",
    "\n",
    "Cover:\n",
    "* Limits\n",
    "* Derivatives\n",
    "    * Leibniz Notation\n",
    "    * Newtonian Notation\n",
    "    * Power Rule\n",
    "    * Chain Rule\n",
    "    * Product Rule\n",
    "    * Quotient Rule\n",
    "    * Second derivative, third derivative\n",
    "* Taylor Rule\n",
    "* L'Hopital Rule\n",
    "* Differential Equations\n",
    "* Integrals\n",
    "    * Sum rule of integration\n",
    "    * Integration by parts\n",
    "    * Fundamental theorem of calculus\n",
    "* Multivariable Calculus\n",
    "    * Partial derivative\n",
    "* Series "
   ]
  },
  {
   "cell_type": "markdown",
   "metadata": {},
   "source": []
  },
  {
   "attachments": {},
   "cell_type": "markdown",
   "metadata": {},
   "source": [
    "\n",
    "$\\frac{d}{dx}\\left(f(g(x))\\right) = f'(g(x))g'(x)$ : The chain rule for derivatives.\n",
    "* Solve some example problems w/ the chain rule, product rule, etc.\n",
    "\n",
    "$\\frac{d}{dx}\\left(\\frac{f(x)}{g(x)}\\right) = \\frac{f'(x)g(x) - g'(x)f(x)}{(g(x))^2}$: The quotient rule for derivatives.\n",
    "\n",
    "$\\frac{d}{dx}\\left(f(x)g(x)\\right) = f'(x)g(x) + f(x)g'(x)$ : The product rule for derivatives.\n",
    "\n",
    "$\\frac{d}{dx}\\left(e^{f(x)}\\right) = f'(x)e^{f(x)}$ : The derivative of $e^{f(x)}$.\n",
    "\n",
    "$\\frac{d}{dx}\\left(\\ln(f(x))\\right) = \\frac{f'(x)}{f(x)}$ : The derivative of $\\ln(f(x))$."
   ]
  },
  {
   "cell_type": "markdown",
   "metadata": {},
   "source": [
    "## Sections\n",
    "* General Definitions\n",
    "* Calculus Notation"
   ]
  },
  {
   "cell_type": "markdown",
   "metadata": {},
   "source": [
    "## General Definitions\n",
    "* **Ordinary Derivative** = derivative of a function with a single independent variable, notated for $y = f(x)$ as: \n",
    "\n",
    "$$\\frac{dy}{dx} = \\frac{d}{dx}(f(x)) = f'(x) \\text{: the derivative of y with respect to x}$$\n",
    "\n",
    "\n",
    "* **Partial Derivative** = derivative of a function with multiple variables, notated for $z = f(x,y)$ as: \n",
    "$$\\frac{\\partial f}{\\partial x} \\text{: the derivative of z with respect to x}$$\n",
    "$$\\frac{\\partial f}{\\partial y} \\text{: the derivative of z with respect to y}$$ \n",
    "$$\\frac{\\partial}{\\partial x} f(x,y) \\text{: the derivative of z with respect to x}$$\n"
   ]
  },
  {
   "cell_type": "markdown",
   "metadata": {},
   "source": [
    "## Notation\n",
    "\n",
    "#### Leibniz Notation\n",
    "\n",
    "**Derivatives**\n",
    "* Leibniz notation is common when working with an equation of the form $y = f(x)$ representing a functional relationship between dependent and independent variables.\n",
    "* The derivative of $y$ with respect to $x$ is represented as:\n",
    "$$\\frac{dy}{dx}$$\n",
    "* Higher derivatives are written as:\n",
    "$$\\frac{d^2y}{dx^2}, \\frac{d^3y}{dx^3}, ... , \\frac{d^ny}{dx^n}$$\n",
    "* This notation comes from the fact that the derivative of the first derivative is:\n",
    "$$\\frac{d(\\frac{dy}{dx})}{dx} = \\frac{d}{dx} \\cdot \\frac{d}{dx} \\cdot y = (\\frac{d}{dx})^2 y = \\frac{d^2y}{dx^2}$$\n",
    "* The symbol $d$ does not have meaning on its own but may be treated as representations of infintitesimals.\n",
    "* $dx$ can be thought of as a tiny change $\\Delta x$ while $dy$ represents how $y$ changes infintesimally as a results of a tiny change in $x$.\n",
    "* Using Leibniz notation we can define $dy$ on its own as:\n",
    "$$dy = \\frac{dy}{dx} \\cdot dx$$\n",
    "* From this we can also express how $y$ changes as a results of a tiny change in $x$ using **Lagrange's Notation**:\n",
    "$$dy =  y' \\cdot dx$$\n",
    "$$df =  f'(x) \\cdot dx$$\n",
    "\n",
    "<br>\n",
    "<br>\n",
    "\n",
    "* For example, take the differential equation for Geometric Brownian Motion:\n",
    "\n",
    "$$dS_t = \\mu S_t dt + \\sigma S_t dW_t$$\n",
    "\n",
    "* Where $S$ is the value being modeled, $\\mu$ is the drift term, $\\sigma$ is the volatility term, and $W$ is a Wiener process.\n",
    "* This formula expresses how $S_t$ changes as a result of a tiny change in $t$ and a tiny change in the Wiener process $W_t$.\n",
    "\n",
    "**Integrals**\n",
    "\n",
    "* In Leibniz notation integrals are expressed as:\n",
    "\n",
    "$$\\int y' dx = \\int f'(x) dx = f(x) + C = y + C$$\n",
    "\n",
    "* Where $C$ represents the arbitrary constant of integration. Because constants have a derivative of zero, any constant can be added to the integral and it will still be a valid solution.\n"
   ]
  },
  {
   "cell_type": "markdown",
   "metadata": {},
   "source": [
    "#### Partial Derivative Notation\n",
    "* We can use partial derivative notation to express the derivative of a function with respect to a single variable while holding all other variables constant.\n",
    "* We can express the partial derivative of a function $f(x, y, z)$ with respect to $x$, but not $y$ or $z$ as:\n",
    "$$\\frac{\\partial f}{\\partial x}$$\n",
    "* Higher order partial derivatives are written as:\n",
    "$$\\frac{\\partial^2 f}{\\partial x^2}, \\frac{\\partial^3 f}{\\partial x^3}, ... , \\frac{\\partial^nf}{\\partial x^n}$$"
   ]
  },
  {
   "cell_type": "markdown",
   "metadata": {},
   "source": [
    "### Vector Calculus Notation\n",
    "\n",
    "* Used for differentiation and integration of vector fields and scalar fields.\n",
    "\n",
    "* **Vector Field** = assignment of a vector to each point in Euclidean space, a vector field $A$ in 3-dimensions can be represented as:\n",
    "\n",
    "$$A = A_x, A_y, A_z$$\n",
    "\n",
    "* **Scalar Field** = function assigning a single number to every point in Euclidean space represented as:\n",
    "\n",
    "$$\\rho = \\rho(x,y,z)$$\n",
    "\n",
    "* **Del / Nabla** = vector differential operator represented as:\n",
    "* Represents the partial derivative at each point in space of a vector field or scalar field.\n",
    "\n",
    "$$\\nabla = \\frac{\\partial}{\\partial x}, \\frac{\\partial}{\\partial y}, \\frac{\\partial}{\\partial z}$$\n",
    "\n",
    "* **Gradient** = the gradient $grad(\\rho)$ of a scalar field $\\rho$ is a vector field where the vector at each point (x, y, z) represents the direction of the steepest slope with respect to that point (x, y, z), it is calculated as the dot product of $\\nabla$ and $\\rho$: \n",
    "* The gradient is the $\\nabla$ of a scalar field $\\rho$.\n",
    "\n",
    "$$grad(\\rho) = \\nabla \\rho = \\frac{\\partial \\rho}{\\partial x}, \\frac{\\partial \\rho}{\\partial y}, \\frac{\\partial \\rho}{\\partial z}$$\n",
    "\n",
    "* **Divergence** = the divergence of a vector field $A$ gives you a scalar field representing the magnitude of a vector field's source or sink at a given point, the divergence is symbolically represented as the dot product of $\\nabla$ and $A$:\n",
    "* The divergence is the $\\nabla$ of a vector field $A$.\n",
    "\n",
    "$$div(A) = \\nabla \\cdot A = \\frac{\\partial A_x}{\\partial x} + \\frac{\\partial A_y}{\\partial y} + \\frac{\\partial A_z}{\\partial z}$$\n",
    "\n",
    "* **Laplacian** = the Laplacian $div(grad(\\rho))$ of a scalar field $\\rho$ is the divergence of the gradient of $\\rho$.\n",
    "* The Laplacian takes a scalar field $\\rho$ as input, computes the gradient of $\\rho$ which returns a vector field, then computes the divergence of that vector field which returns a scalar field representing the magnitude of the source or sink of the gradient at each point in space (i.e. the rate at which the scalar field $\\rho$ is changing at each point in space).\n",
    "\n",
    "$$\\nabla^2 \\rho = \\nabla \\cdot \\nabla \\rho = \\frac{\\partial^2 \\rho}{\\partial x^2} + \\frac{\\partial^2 \\rho}{\\partial y^2} + \\frac{\\partial^2 \\rho}{\\partial z^2}$$\n"
   ]
  },
  {
   "cell_type": "code",
   "execution_count": null,
   "metadata": {
    "vscode": {
     "languageId": "julia"
    }
   },
   "outputs": [],
   "source": []
  }
 ],
 "metadata": {
  "language_info": {
   "name": "python"
  },
  "orig_nbformat": 4
 },
 "nbformat": 4,
 "nbformat_minor": 2
}

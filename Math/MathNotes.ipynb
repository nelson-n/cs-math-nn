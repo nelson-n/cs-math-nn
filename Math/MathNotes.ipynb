{
 "cells": [
  {
   "cell_type": "markdown",
   "metadata": {},
   "source": [
    "## Sections\n",
    "* Math Fundamentals\n",
    "    * Theorems and Approximations\n",
    "    * Permutations\n",
    "    * Mean Functions\n",
    "* Random Walk Processes\n",
    "* Brownian Motion\n",
    "* Geometric Brownian Motion\n",
    "* Itô's Lemma\n",
    "\n",
    "---"
   ]
  },
  {
   "cell_type": "markdown",
   "metadata": {},
   "source": [
    "## Math Fundamentals"
   ]
  },
  {
   "cell_type": "markdown",
   "metadata": {},
   "source": [
    "\n",
    "### Theorems and Approximations\n",
    "\n",
    "$(1-x) \\approx e^{-x}$\n",
    "\n",
    "---"
   ]
  },
  {
   "cell_type": "markdown",
   "metadata": {},
   "source": [
    "\n",
    "### Combinatorics and Permutations\n",
    "\n",
    "**Combinatorics** = the number of combinations of $R$ distinct objects we can make from a set of $N$ objects.\n",
    "\n",
    "$$C_N = \\frac{N!}{R! \\cdot (N-R)!}$$\n",
    "\n",
    "* Note that if we are choosing all $N$ objects such as the number of combinations of the numbers 1-5 then the equation simplifies to: $C_N = N!$\n",
    "*   Note that this is the same as the permutations equation when choosing all $N$ objects.\n",
    "\n",
    "**Permutations** = the number of ways we can arrange $R$ distinct objects out of a set of $N$ objects (order matters).\n",
    "$$P_R = \\frac{N!}{(N-R)!}$$\n",
    "\n",
    "---"
   ]
  },
  {
   "cell_type": "markdown",
   "metadata": {},
   "source": [
    "### Mean Functions\n",
    "\n",
    "**Arithmetic Mean** = the sum of all values divided by the number of values.\n",
    "$$\\mu = \\frac{1}{n} \\sum_{i=1}^{n} x_i$$\n",
    "\n",
    "**Geometric Mean** = the $n$ th root of the product of all values.\n",
    "* Used when finding the mean of data measured with different units.\n",
    "$$\\mu = (\\prod_{i=1}^{n} x_i)^{\\frac{1}{n}}$$\n",
    "\n",
    "**Harmonic Mean** = the reciprocal of the arithmetic mean of the reciprocals of all values.\n",
    "* Use to calculate F1 score\n",
    "$$\\mu = (\\frac{1}{n} \\cdot \\sum_{i=1}^{n} \\frac{1}{x_i})^{-1}$$"
   ]
  },
  {
   "cell_type": "code",
   "execution_count": 1,
   "metadata": {},
   "outputs": [
    {
     "name": "stdout",
     "output_type": "stream",
     "text": [
      "0.442517398412476\n",
      "0.2967725626497203\n",
      "0.083904149271028\n"
     ]
    }
   ],
   "source": [
    "import random\n",
    "import numpy as np\n",
    "\n",
    "# Generate 100 random positive numbers and put in an np array.\n",
    "x = np.array([random.random() for i in range(100)])\n",
    "\n",
    "# Mean function.\n",
    "def mean(x):\n",
    "    return sum(x) / len(x)\n",
    "\n",
    "# Geometric mean function.\n",
    "def gmean(x):\n",
    "    return np.prod(x) ** (1 / len(x))\n",
    "\n",
    "# Harmonic mean function.\n",
    "def hmean(x):\n",
    "    return ((1 / len(x)) * sum(1 / x))**(-1)\n",
    "\n",
    "# Calculate mean with various functions.\n",
    "print(mean(x))\n",
    "print(gmean(x))\n",
    "print(hmean(x))\n"
   ]
  },
  {
   "cell_type": "markdown",
   "metadata": {},
   "source": [
    "---"
   ]
  },
  {
   "cell_type": "markdown",
   "metadata": {},
   "source": [
    "## Random Walk Processes\n",
    "* Describes a path of successive random steps in a mathematical space.\n",
    "* Simple example: an integer on the number line which starts at 0 and at each step moves +1 or -1 with equal probability.\n",
    "    * The expected value of this random walk is 0, however, this random walk will cross any boundary line an infinite number of times if allowed to continue walking forever. This is known as the *level crossing phenomenon* or *gambler's ruin* as a gambler will at some point reach 0 and lose.\n",
    "    * The sum of this series gives the net distance walked.\n",
    "    * If $a$ and $b$ are positive integers, the expected number of steps until a one-dimensional simple random walk starting at 0 hits $b$ or $-a$ is $ab$.\n",
    "    * The probability that the walk will hit $b$ before $-a$ is $\\frac{a}{a+b}$\n",
    "    * These above formulas can be derived from the fact that a simple random walk is a martingale.\n",
    "\n",
    "#### Martingales\n",
    "* Martingales are stochastic processes that meet the following criteria:\n",
    "$$\\mathbb{E}(X_n) < \\infty$$\n",
    "$$\\mathbb{E}(X_{n+1} | X_1, ..., X_n) = X_n$$\n",
    "* The expected next value, conditional on all past observations, is equal to the most recent observation.\n",
    "* An unbiased random walk in any number of dimensions is an example of a martingale.\n",
    "* A gambler's fortune is a martingale if all the betting games which the gambler plays are fair. To be more specific: suppose $X_n$ is a gambler's fortune after $n$ tosses of a fair coin, where the gambler wins 1 dollar if the coin comes up heads and loses 1 dollar if it comes up tails. The gambler's conditional expected fortune after the next trial, given the history, is equal to their present fortune. \n"
   ]
  },
  {
   "cell_type": "code",
   "execution_count": 7,
   "metadata": {},
   "outputs": [
    {
     "name": "stdout",
     "output_type": "stream",
     "text": [
      "Max value in the random walk process with 1e5 steps: 171.0\n",
      "Min value in the random walk process with 1e5 steps: -654.0\n"
     ]
    }
   ],
   "source": [
    "import numpy as np\n",
    "\n",
    "# Generate a random walk based on a starting position x and a number of steps.\n",
    "def random_walk(x = 0, n_steps = 100):\n",
    "\n",
    "    # Vector to hold random walk path.\n",
    "    w = np.ones(n_steps) * x\n",
    "\n",
    "    # Generate random walk.\n",
    "    for i in range(1, n_steps):\n",
    "        yi = np.random.choice([1, -1]) # Choose between 1 step left or 1 step right.\n",
    "        w[i] = w[i-1] + yi\n",
    "\n",
    "    return w\n",
    "\n",
    "rw_process = random_walk(0, 100)\n",
    "\n",
    "# Testing that with a sufficient number of steps you can achieve large values\n",
    "# in a simple random walk process.\n",
    "rw_process = random_walk(0, int(1e5))\n",
    "print(\"Max value in the random walk process with 1e5 steps: \" + str(np.max(rw_process)))\n",
    "print(\"Min value in the random walk process with 1e5 steps: \" + str(np.min(rw_process)))\n"
   ]
  },
  {
   "cell_type": "markdown",
   "metadata": {},
   "source": [
    "---"
   ]
  },
  {
   "cell_type": "markdown",
   "metadata": {},
   "source": [
    "## Brownian Motion \n",
    "* The Wiener Process is the underlying stochastic process, Brownian motion is the phenomenon being modeled.\n",
    "    * Diffusion Equation = Parabolic partial differential equation used in Brownian motion, Markov processes, random walks, et cetera.\n",
    "\n",
    "#### Wiener Process\n",
    "* The Wiener Process is a real valued continuous time stochastic process.\n",
    "* A Wiener Process follows a normal distribution with $\\mu=0$ and $\\sigma^2=t$, and an expectation of $E[W_t] = 0$.\n",
    "* A Wiener Process is characterized by four tenets: \n",
    "    * $W_0 = 0$\n",
    "    * $W_t$ is continuous\n",
    "    * $W_t$ has independent increments\n",
    "    * $W_t - W_s ~ \\sim N(0,t-s)$\n",
    "* The Lévy characterisation states that a Wiener process is a continuous martingale.\n",
    "* Levy Processes are stochastic processes with independent and stationary increments. The Wiener Process is the most well known Levy Process.\n",
    "* The Wiener Process is a Markov Process, meaning that the future is independent of the past given the present.\n",
    "    * Information of past states does not help predict future states, only the current state is relevant."
   ]
  },
  {
   "cell_type": "code",
   "execution_count": 8,
   "metadata": {},
   "outputs": [
    {
     "name": "stdout",
     "output_type": "stream",
     "text": [
      "Average value of the Wiener Process with 10000 Steps: 0.0029889033676849634\n"
     ]
    }
   ],
   "source": [
    "import numpy as np\n",
    "\n",
    "n = 25 # Number of time steps in the Wiener Process.\n",
    "T = 1 # Total time horizon (i.e 1 year).\n",
    "dt = T/n # Incremental time step (t).\n",
    "\n",
    "mu = 0 \n",
    "sigma = np.sqrt(dt)\n",
    "\n",
    "# Wiener Process with (n=25) time steps.\n",
    "np.random.normal(mu, sigma, size = n)\n",
    "\n",
    "# Verifying that the expected value of the Wiener Process = 0.\n",
    "n = 10000\n",
    "wp = np.random.normal(mu, sigma, size = n)\n",
    "print(\"Average value of the Wiener Process with 10000 Steps: \" + str(np.mean(wp)))"
   ]
  },
  {
   "cell_type": "markdown",
   "metadata": {},
   "source": [
    "#### Brownian Motion\n",
    "* Brownian motion = the random motion of particles suspended in a fluid (liquid or gas).\n",
    "    * Caused by the continuous and rapid collisions between the particles and surrounding molecules in the fluid.\n",
    "* Under Brownian motion there is no preferential direction of flow and over time the particles motion tends toward a dynamic equilibrium where overall movement appears balanced even though individual motions are random.\n",
    "\n",
    "#### Einstein's Theory\n",
    "* Formulation of a diffusion equation for Brownian particles in which the diffusion coefficient is related to the mean squared displacement of the particles.\n",
    "    * This requires determining how far a Brownian particle travels in a given time interval. Classical mechanics cannot determine this because of the massive number of bombardments a Brownian particle undergoes, $10^{14}$ collisions per second. \n",
    "    * Instead a probability density function is used to estimate how likely the particle is to jump a distance $x + \\Delta$.\n",
    "* Using this framework, the density of Brownian particles $\\rho$ at point $x$ at time $t$ satisfied the diffusion equation, where D is interpreted as the mass diffusivity coefficient (how quickly diffusion occurs):\n",
    "$$\\frac{\\partial \\rho}{\\partial t} = D \\cdot \\frac{\\partial^2 \\rho}{\\partial x^2}$$\n",
    "\n",
    "* Assuming that $N$ particles start from the origin at $t=0$, the above diffusion equation has the solution:\n",
    "$$\\rho(x, t) = \\frac{N}{\\sqrt{4 \\pi Dt}}e^{-\\frac{x^2}{4Dt}}$$\n",
    "\n",
    "* Note, typically a compound's diffusion coefficient is ~10,000x greater in air than in water. \n",
    "* C02 in air has a diffusion coefficient of $16 mm^2/s$."
   ]
  },
  {
   "cell_type": "code",
   "execution_count": 4,
   "metadata": {},
   "outputs": [
    {
     "name": "stdout",
     "output_type": "stream",
     "text": [
      "Baseline Density: 70.52369794346954\n",
      "Density 10 Steps Away: 14.782570152955675\n",
      "Density After 5 Time Steps: 31.539156525252\n",
      "Density w/ Larger Diffusion Coefficient: 49.86778505017909\n"
     ]
    }
   ],
   "source": [
    "# Density of Brownian particles p at a point x and time t, conditional on the \n",
    "# number of particles N that start at the origin and the diffusion coefficient\n",
    "# of the compound D.\n",
    "import math\n",
    "\n",
    "def p(x, t, N, D):\n",
    "    return N / (math.sqrt(4 * math.pi * D * t)) * math.exp(-x**2 / (4 * D * t))\n",
    "\n",
    "# Finding the density at the origin (x=0) after one time step, assuming 1000 \n",
    "# starting particles and a diffusion coefficient of 16.\n",
    "x = 0\n",
    "t = 1\n",
    "N = 1000\n",
    "D = 16\n",
    "\n",
    "density = p(x, t, N, D)\n",
    "print(\"Baseline Density: \" + str(density))\n",
    "\n",
    "# Moving 10 steps away from the origin, all else held equal the density of \n",
    "# particles decreases drastically.\n",
    "x = 10\n",
    "t = 1\n",
    "N = 1000\n",
    "D = 16\n",
    "\n",
    "density = p(x, t, N, D)\n",
    "print(\"Density 10 Steps Away: \" + str(density))\n",
    "\n",
    "# Increasing the number of time steps that pass before measuring the density\n",
    "# at the origin, all else held equal the density of particles decreases.\n",
    "x = 0\n",
    "t = 5\n",
    "N = 1000\n",
    "D = 16\n",
    "\n",
    "density = p(x, t, N, D)\n",
    "print(\"Density After 5 Time Steps: \" + str(density))\n",
    "\n",
    "# Doubling the diffusion coefficient, all else held equal the density of\n",
    "# particles decreases.\n",
    "x = 0\n",
    "t = 1\n",
    "N = 1000\n",
    "D = 32\n",
    "\n",
    "density = p(x, t, N, D)\n",
    "print(\"Density w/ Larger Diffusion Coefficient: \" + str(density))\n"
   ]
  },
  {
   "cell_type": "markdown",
   "metadata": {},
   "source": [
    "* The diffusion equation above it a normal distribution with $\\mu = 0$ and variance $\\sigma^2 = 2Dt$.\n",
    "* The first moment of this distribution vanishes, meaning that a Brownian particle is equally likely to move left or right.\n",
    "* The second moment ($\\sigma^2 = 2Dt$) is not vanishing and explains how much the particle moves (mean squared displacement) in terms of time $t$ and the diffusion coefficent $D$ (how quickly the compound tends to diffuse)."
   ]
  },
  {
   "cell_type": "markdown",
   "metadata": {},
   "source": [
    "---"
   ]
  },
  {
   "cell_type": "markdown",
   "metadata": {},
   "source": [
    "## Geometric Brownian Motion\n",
    "* Continuous-time stochastic process in which the log of the randomly varying quantity follows a Brownian motion with drift.\n",
    "* A stochastic process $S_t$ follow Geometric Brownian Motion (GBM) if it satisfies the following stochastic differential equation (SDE):\n",
    "$$dS_t = \\mu S_t dt + \\sigma S_t dW_t$$\n",
    "* Where $S_t$ is the underlying process being modeled, $W_t$ is a Wiener Process/Brownian Motion, $\\mu$ is the percentage drift constant and $\\sigma$ is the percentage volatility constant.\n",
    "    * $\\mu$ represents a long-run deterministic trend and $\\sigma$ represents the random shocks to the trend.\n",
    "* Using Itô's calculus the above SDE has the solution: \n",
    "$$S_t = S_0 e^{(\\mu - \\frac{\\sigma^2}{2})t + \\sigma W_t}$$\n",
    "* The solution $S_t$ is a log-normally distributed random variable with expected value and variance given by:\n",
    "$$E[S_t] = S_0 e^{\\mu t}$$\n",
    "$$Var[S_t] = S_0^2 e^{2\\mu t} (e^{\\sigma^2 t} - 1)$$\n",
    "* The expected value can be thought of as simply taking the original value and growing it at a constant rate $\\mu$ for an amount of time $t$."
   ]
  },
  {
   "cell_type": "code",
   "execution_count": 9,
   "metadata": {},
   "outputs": [
    {
     "data": {
      "image/png": "[encoded data removed]",
      "text/plain": [
       "<Figure size 640x480 with 1 Axes>"
      ]
     },
     "metadata": {},
     "output_type": "display_data"
    },
    {
     "name": "stdout",
     "output_type": "stream",
     "text": [
      "Expected value at time step 100 with 1000 simulations: 149.18246976412703\n",
      "Realized average value at time step 100 with 1000 simulations: 145.90659892891796\n",
      "Expected variance with 1000 simulations: 9643.923476237169\n",
      "Realized variance with 1000 simulations: 7774.560716526783\n"
     ]
    }
   ],
   "source": [
    "import numpy as np\n",
    "import matplotlib.pyplot as plt\n",
    "\n",
    "# Parameters\n",
    "mu = 0.1 # Drift coefficient mu.\n",
    "sigma = 0.3 # Volatility.\n",
    "n = 100 # Number of time steps.\n",
    "T = 1 # Total time horizon (1 year).\n",
    "M = 5 # Number of simulations.\n",
    "S0 = 100 # Initial value.\n",
    "\n",
    "# Calculate the size of each time step.\n",
    "dt = T/n\n",
    "\n",
    "# Generating Brownian motion (Wiener Process), thus we use a normal distribution\n",
    "# with mu = 0 and sigma^2 = dt.\n",
    "Wt = np.random.normal(0, np.sqrt(dt), size=(M,n))\n",
    "\n",
    "# Entire part of the GBM equation after S0 (movement at each time step).\n",
    "St = np.exp( # Euler's number.\n",
    "    (mu - sigma ** 2 / 2) * dt # Drift term. \n",
    "    + sigma * Wt.T # Wiener Process (Diffusion Term) * Sigma\n",
    ")\n",
    "\n",
    "# Include array of 1's.\n",
    "St = np.vstack([np.ones(M), St])\n",
    "\n",
    "# Use cumulative product to multiply the beginning value S0 by the movement at\n",
    "# each time step for a given simulation. This returns the GBM path.\n",
    "St = S0 * St.cumprod(axis=0)\n",
    "\n",
    "# Plot the GBM path for each simulation.\n",
    "plt.plot(St)\n",
    "plt.show()\n",
    "\n",
    "#-------------------------------------------------------------------------------\n",
    "# Verifying that under a large number of simulations the expected value and \n",
    "# variance of the GBM is close to theoretical values.\n",
    "#-------------------------------------------------------------------------------\n",
    "\n",
    "M = 1000\n",
    "T = 4\n",
    "dt = T/n\n",
    "\n",
    "# Generate 1000 GBM paths.\n",
    "St = np.exp((mu - sigma ** 2 / 2) * dt + sigma * np.random.normal(0, np.sqrt(dt), size=(M,n)).T)\n",
    "St = np.vstack([np.ones(M), St])\n",
    "St = S0 * St.cumprod(axis=0)\n",
    "\n",
    "# Taking the mean value of all simulations at time step = 100 and comparing to \n",
    "# the expected value of the GBM.\n",
    "print(\"Expected value at time step 100 with 1000 simulations: \" + str(S0 * np.exp(mu * T)))\n",
    "print(\"Realized average value at time step 100 with 1000 simulations: \" + str(np.mean(St[100, ])))\n",
    "\n",
    "# Taking the variance of all simulations at time step = 100 and comparing to\n",
    "# the variance of the GBM.\n",
    "print(\"Expected variance: \" + str(S0 ** 2 * np.exp(2 * mu * T) * (np.exp(sigma ** 2 * T) - 1)))\n",
    "print(\"Realized variance: \" + str(np.var(St[100, ])))\n"
   ]
  },
  {
   "cell_type": "markdown",
   "metadata": {},
   "source": [
    "---"
   ]
  },
  {
   "cell_type": "markdown",
   "metadata": {},
   "source": [
    "## Itô's Lemma\n",
    "\n",
    "#### Itô's Calculus\n",
    "* Itô calculus extends the methods of calculus to stochastic processes such as Brownian motion.\n",
    "* The central concept is the Itô integral, a stochastic version of the Riemann–Stieltjes integral (the standard integral method).\n",
    "* In the central concept of Itô's calculus the integrands and integrators are stohchastic processes:\n",
    "$$Y_t = \\int_0^t H_s dX_s$$\n",
    "* Where $H$ is an integrable process of Brownian motion (more generally, a semimartingale). The result of the above integration is another stochastic process $Y$.\n",
    "    * Another way to put it is that the integral from $0$ to $t$ is a random variable defined as a limit of a certain sequence of random variables.\n",
    "* Itô stochastic integral is an integral with respect to a function which is not differentiable at any point and has infinite variation over every time interval (stochastic). \n",
    "* To perform Itô's calculus, one chooses a sequence of partitions of the interval from $0$ to $t$ and constructs Riemann sums. Every time we are computing a Riemann sum, we are using a particular instantiation of the integrator. The limit then is taken in probability as the mesh of the partition is going to zero. \n",
    "* In quantitative finance, the integrand represents $H_s$ how much of the asset one holds, the integrator represents the movement of the price, and the integral is how much money the asset is worth at any given time $t$. \n",
    "    * The Itô stochastic integral represents the payoff of a continuous time trading strategy consisting of holdings $H_t$ of the asset at time $t$.\n",
    "\n",
    "#### Itô's Lemma\n",
    "\n",
    "* Itô's Lemma is an identity that serves as the functional equivalent of the chain rule for stochastic calculus.\n",
    "* Given an Itô Process that takes the following form, where $W_t$ is a Wiener process (Brownian motion):\n",
    "$$dX_t = \\mu X_t dt + \\sigma X_t dW_t$$\n",
    "* Itô's Lemma in its simplest form states that for any twice continuously differentiable function $f$ on the real number line and any Itô Process $X_t$ (as defined above), the function $f(X)$ is itself an Itô Process with the following form:\n",
    "$$df(X_t) = \\frac{\\partial f}{\\partial t} dt + \\frac{\\partial f}{\\partial X} dX_t + \\frac{1}{2} \\frac{\\partial^2 f}{\\partial dX_t^2} (dX_t)^2$$\n",
    "* This can be further simplified to the form:\n",
    "$$df(X_t) = f'(X_t)dX_t + \\frac{1}{2}f''(X_t)dX_t^2$$\n",
    "* Itô's Lemma gives a useful tool for solving stochastic differential equations (SDEs).\n",
    "\n",
    "#### Solving the Geometric Brownian Motion (GBM) SDE using Itô's Lemma\n",
    "\n",
    "* Recall that a GBM stochastic process is defined using the following stochastic differential equation:\n",
    "$$dS_t = \\mu S_t dt + \\sigma S_t dW_t$$\n",
    "\n",
    "* Logging all instances of the stochastic process $S_t$ we get:\n",
    "$$d(lnS_t) = \\mu(ln S_t)dt + \\sigma(ln S_t)dW_t$$\n",
    "\n"
   ]
  },
  {
   "cell_type": "markdown",
   "metadata": {},
   "source": [
    "\n",
    "* And applying the simplified form of Itô's Lemma above with $f(S_t)$ as $ln(x)$ we get:\n",
    "$$d(lnS_t) = (lnS_t)'dS_t + \\frac{1}{2}(lnS_t)''dS_tdS_t$$\n",
    "* Given that the first derivative of $ln(X)$ is $\\frac{1}{X}$ and the second derivative is $-\\frac{1}{X^2}$, we get:\n",
    "$$d(lnS_t) = \\frac{1}{S_t}dS_t - \\frac{1}{2}\\frac{1}{S_t^2}dS_tdS_t$$\n",
    "* Where $dS_tdS_t$ is the quadratic variation of the original SDE defined in the first step and can be multiplied out to equal:\n",
    "$$dS_tdS_t = \\sigma^2 S^2_tdW^2_t + 2\\sigma S^2_t\\mu dW_t dt + \\mu^2 S^2_t dt^2$$\n",
    "* We are solving the SDE for an initial value $S_0$ so we care about when $dt \\rightarrow 0$, $dt$ (a small increment of time) converges to 0 faster than $dW_t$ since a small increment of the Wiener Process $W_t$ equals $dW^2_t = O(dt)$. Thus we can get rid of the first two terms in the above equation and we are left with:\n",
    "$$dS_tdS_t = \\mu^2 S^2_t dt^2$$\n",
    "* Plugging in $dS_t = \\mu S_t dt + \\sigma S_t dW_t$ for all values of $dS_t$ and performing a lot of simplication we get:\n",
    "$$ln\\frac{S_t}{S_0} = (\\mu - \\frac{\\sigma^2}{2})t + \\sigma W_t$$\n",
    "* By raising both sides to the power of $e$ we get and multiplying both sides by $S_0$ we get the analytics solution to the GBM SDE:\n",
    "$$S_t = S_0e^{(\\mu - \\frac{\\sigma^2}{2})t + \\sigma W_t}$$\n",
    "* Itô's Lemma allows us to take the $ln$ of the GBM SDE and solve for $S_t$ in a much simpler way than the original SDE."
   ]
  },
  {
   "cell_type": "markdown",
   "metadata": {},
   "source": [
    "---"
   ]
  }
 ],
 "metadata": {
  "kernelspec": {
   "display_name": "Python 3",
   "language": "python",
   "name": "python3"
  },
  "language_info": {
   "codemirror_mode": {
    "name": "ipython",
    "version": 3
   },
   "file_extension": ".py",
   "mimetype": "text/x-python",
   "name": "python",
   "nbconvert_exporter": "python",
   "pygments_lexer": "ipython3",
   "version": "3.11.1"
  },
  "orig_nbformat": 4
 },
 "nbformat": 4,
 "nbformat_minor": 2
}

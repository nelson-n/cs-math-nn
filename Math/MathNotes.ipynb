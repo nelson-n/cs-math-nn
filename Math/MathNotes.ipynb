{
 "cells": [
  {
   "cell_type": "markdown",
   "metadata": {},
   "source": [
    "## Sections\n",
    "* [Brownian Motion](#brownian-motion)\n",
    "\n",
    "---"
   ]
  },
  {
   "cell_type": "markdown",
   "metadata": {},
   "source": [
    "## Random Walk Processes\n",
    "* Describes a path of successive random steps in a mathematical space.\n",
    "* Simple example: an integer on the number line which starts at 0 and at each step moves +1 or -1 with equal probability.\n",
    "    * The expected value of this random walk is 0, however, this random walk will cross any boundary line an infinite number of times if allowed to continue walking forever. This is known as the *level crossing phenomenon* or *gambler's ruin* as a gambler will at some point reach 0 and lose.\n",
    "    * The sum of this series gives the net distance walked.\n",
    "    * If $a$ and $b$ are positive integers, the expected number of steps until a one-dimensional simple random walk starting at 0 hits $b$ or $-a$ is $ab$.\n",
    "    * The probability that the walk will hit $b$ before $-a$ is $\\frac{a}{a+b}$\n",
    "    * These above formulas can be derived from the fact that a simple random walk is a martingale.\n",
    "\n",
    "<br>\n",
    "\n",
    "* Aside: Martingales\n",
    "    * Martingales are stochastic processes that meet the following criteria:\n",
    "    $$\\mathbb{E}(X_n) < \\infty$$\n",
    "    $$\\mathbb{E}(X_{n+1} | X_1, ..., X_n) = X_n$$\n",
    "    * i.e the expected next value, conditional on all past observations, is equal to the most recent observation.\n",
    "    * An unbiased random walk in any number of dimensions is an example of a martingale.\n",
    "    * A gambler's fortune is a martingale if all the betting games which the gambler plays are fair. To be more specific: suppose $X_n$ is a gambler's fortune after $n$ tosses of a fair coin, where the gambler wins $1 if the coin comes up heads and loses $1 if it comes up tails. The gambler's conditional expected fortune after the next trial, given the history, is equal to their present fortune. \n"
   ]
  },
  {
   "cell_type": "markdown",
   "metadata": {},
   "source": [
    "## Brownian Motion (Wiener Process)\n",
    "* The Wiener Process is the underlying stochastic process, Brownian motion is the phenomenon being modeled.\n",
    "    * Diffusion Equation = Parabolic partial differential equation used in Brownian motion, Markov processes, random walks, et cetera.\n",
    "* Brownian motion = the random motion of particles suspended in a fluid (liquid or gas).\n",
    "    * Caused by the continuous and rapid collisions between the particles and surrounding molecules in the fluid.\n",
    "* Under Brownian motion there is no preferential direction of flow and over time the particles motion tends toward a dynamic equilibrium where overall movement appears balanced even though individual motions are random.\n",
    "\n",
    "Einstein's Theory\n",
    "* Formulation of a diffusion equation for Brownian particles in which the diffusion coefficient is related to the mean squared displacement of the particles.\n",
    "    * This requires determining how far a Brownian particle travels in a given time interval. Classical mechanics cannot determine this because of the massive number of bombardments a Brownian particle undergoes, $10^{14}$ collisions per second. \n",
    "    * Instead a probability density function is used to estimate how likely the particle is to jump a distance $x + \\Delta$.\n",
    "* Using this framework, the density of Brownian particles $\\Rho$ at point $x$ at time $t$ satisfied the diffusion equation, where D is interpreted as the mass diffusivity coefficient (how quickly diffusion occurs):\n",
    "$$\\frac{\\partial \\Rho}{\\partial t} = D \\cdot \\frac{\\partial^2 \\Rho}{\\partial x^2}$$\n",
    "\n",
    "* Assuming that $N$ particles start from the origin at $t=0$, the above diffusion equation has the solution:\n",
    "$$\\rho(x, t) = \\frac{N}{\\sqrt{4 \\pi Dt}}e^{-\\frac{x^2}{4Dt}}$$\n",
    "\n",
    "* Note, typically a compound's diffusion coefficient is ~10,000x greater in air than in water. \n",
    "* C02 in air has a diffusion coefficient of 16 mm2/s."
   ]
  },
  {
   "cell_type": "code",
   "execution_count": 2,
   "metadata": {},
   "outputs": [
    {
     "name": "stdout",
     "output_type": "stream",
     "text": [
      "70.52369794346954\n"
     ]
    },
    {
     "data": {
      "text/plain": [
       "14.782570152955675"
      ]
     },
     "execution_count": 2,
     "metadata": {},
     "output_type": "execute_result"
    }
   ],
   "source": [
    "# Density of Brownian particles p at a point x and time t, conditional on the \n",
    "# number of particles N that start at the origin and the diffusion coefficient\n",
    "# of the compound D.\n",
    "import math\n",
    "\n",
    "def p(x, t, N, D):\n",
    "    return N / (math.sqrt(4 * math.pi * D * t)) * math.exp(-x**2 / (4 * D * t))\n",
    "\n",
    "# Finding the density at the origin (x=0) after one time step, assuming 1000 \n",
    "# starting particles and a diffusion coefficient of 16.\n",
    "x = 0\n",
    "t = 1\n",
    "N = 1000\n",
    "D = 16\n",
    "\n",
    "print(p(x, t, N, D))\n",
    "\n",
    "# Moving 10 steps away from the origin, all else held equal the density of \n",
    "# particles decreases drastically.\n",
    "x = 10\n",
    "t = 1\n",
    "N = 1000\n",
    "D = 16\n",
    "\n",
    "print(p(x, t, N, D))\n",
    "\n",
    "\n",
    "\n",
    "\n"
   ]
  },
  {
   "cell_type": "code",
   "execution_count": null,
   "metadata": {},
   "outputs": [],
   "source": [
    "\n",
    "- insert code for generating Brownian motion, plot.\n",
    "make a brownian motion plot"
   ]
  },
  {
   "cell_type": "markdown",
   "metadata": {},
   "source": [
    "## Itô's Lemma"
   ]
  }
 ],
 "metadata": {
  "kernelspec": {
   "display_name": "Python 3",
   "language": "python",
   "name": "python3"
  },
  "language_info": {
   "codemirror_mode": {
    "name": "ipython",
    "version": 3
   },
   "file_extension": ".py",
   "mimetype": "text/x-python",
   "name": "python",
   "nbconvert_exporter": "python",
   "pygments_lexer": "ipython3",
   "version": "3.11.1"
  },
  "orig_nbformat": 4
 },
 "nbformat": 4,
 "nbformat_minor": 2
}

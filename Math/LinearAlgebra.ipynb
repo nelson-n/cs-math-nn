{
 "cells": [
  {
   "attachments": {},
   "cell_type": "markdown",
   "metadata": {},
   "source": [
    "## Linear Algebra Notes\n",
    "\n",
    "** TO DO **\n",
    "* The geometry and algebra of vectors.\n",
    "* Length and Angle: The Dot Product\n",
    "* Systems of Linear Equations\n",
    "* Spanning sets and linear independence\n",
    "* Matrix operations, matrix algebra, the inverse of a matrix. \n",
    "* Subspaces, Basis, Dimension, Rank\n",
    "* Linear transformations\n",
    "* Eigenvalues, eigenvectors, eigenspaces\n",
    "* Determinants\n",
    "* Orthogonality, projections onto subspaces and othogonal complements\n",
    "\n",
    "* transpose"
   ]
  },
  {
   "attachments": {},
   "cell_type": "markdown",
   "metadata": {},
   "source": [
    "### Linear Algebra Overview\n",
    "* All of linear algebra can be completed with two operations: vector addition and vector multiplication.\n",
    "* All vectors can be represented as scalar multiples of the basis vectors *i* and *j*."
   ]
  },
  {
   "cell_type": "code",
   "execution_count": 2,
   "metadata": {},
   "outputs": [
    {
     "name": "stdout",
     "output_type": "stream",
     "text": [
      "[3, 4]"
     ]
    }
   ],
   "source": [
    "using LinearAlgebra\n",
    "\n",
    "# Vector addition.\n",
    "[1, 2] + [3, 4]\n",
    "\n",
    "# Vector scaling.\n",
    "[4, 6] * 2\n",
    "\n",
    "# Basis vectors.\n",
    "i = [1, 0]\n",
    "j = [0, 1]\n"
   ]
  },
  {
   "attachments": {},
   "cell_type": "markdown",
   "metadata": {},
   "source": [
    "### Linear Transformations\n",
    "* Linear transformation is the process of multiplying vectors by a matrix in order to transform them into new vectors.\n",
    "* Linear transformation can be thought of as a way to move around space. Every time that you see a matrix you can interpret it as a transformation of space.\n",
    "    * For example, rotating the standard 2D grid by 45 degrees. \n",
    "* The linear transformation of any vector can be described/calculated in terms of how the basis vectors *i* and *j* are transformed by the linear transformation.\n",
    "* Matrices are the language that describes linear transformation.\n",
    "    * Columns of the matrix represent how the basis vectors are transformed, they can be thought of as the coordinates of the transformed basis vectors.\n",
    "* Types of linear transformations: rotate, reflect, scale, shear, project.\n",
    "* Matrix multiplication stretches or squeezes the size of the grid, this degree of stretch/squeeze is encoded in the determinant.\n",
    "    * This stretch/squeeze can be represented by how much area the basis vectors take up after transformation (by default 1i * 1j = 1)."
   ]
  },
  {
   "cell_type": "code",
   "execution_count": null,
   "metadata": {},
   "outputs": [],
   "source": [
    "vec = [2, 2]\n",
    "\n",
    "# Reflection in the y-axis.\n",
    "A = [-1 0; 0 1]\n",
    "A * vec\n",
    "\n",
    "# Reflection in the x-axis.\n",
    "A = [1 0; 0 -1]\n",
    "A * vec\n",
    "\n",
    "# Horizontal expansion.\n",
    "A = [2 0; 0 1]\n",
    "A * vec\n",
    "\n",
    "# Horizontal shear.\n",
    "A = [1 4; 0 1]\n",
    "A * vec\n"
   ]
  },
  {
   "attachments": {},
   "cell_type": "markdown",
   "metadata": {},
   "source": [
    "### Determinants\n",
    "* **Determinant** = Scalar value that measures how much the area of a vector space changes as a result of transformation.\n",
    "    * Can only be computed for square matrices.\n",
    "    * Negative determinants represent a flip of orientation.\n",
    "    * When the determinant is 0, i has been transformed so it is a linear combination of j (on the same line). The area of the grid is now 0, thus the determinant is 0."
   ]
  },
  {
   "cell_type": "code",
   "execution_count": null,
   "metadata": {},
   "outputs": [],
   "source": [
    "\n",
    "# The determinant of a 2x2 matrix [a b; c d] is given by the formula ad - bc.\n",
    "A = [1 2; 3 4]\n",
    "1 * 4 - 2 * 3\n",
    "det(A)\n",
    "\n",
    "# The determinant of a horizontal expansion by a factor of 2 is simply 2. \n",
    "A = [2 0; 0 1]\n",
    "det(A)\n",
    "\n",
    "# The determinant of larger matrices can be manually calculated using Laplace expansion.\n",
    "A = [1 2 3; 4 1 6; 7 8 1]\n",
    "det(A)\n",
    "\n",
    "# The determinant of a matrix is also the product of the eigenvalues of the matrix.\n",
    "vals = eigvals(A)\n",
    "vals[1] * vals[2] * vals[3]\n"
   ]
  },
  {
   "attachments": {},
   "cell_type": "markdown",
   "metadata": {},
   "source": [
    "## Span and Linear Independence\n",
    "* **Vector Space** = Set of vectors {v1, v2, ..., vn} along with two operations, vector addition and scalar multiplication.\n",
    "* **Span** = Given a set of vectors {v1, v2, ..., vn} in a vector space V, the span is the set of all linear combinations of the vectors. \n",
    "    * The span is itself a vector space that represents all possible linear combinations of the given vectors.\n",
    "    * The dimension of the span equals the number of vectors in the vector space unless two of the vectors are linearly dependent (fall on the same line).\n",
    "* **Linear Independence** = A set of vectors is linearly independent if no vector in the set can be expressed as a linear combination of other vectors in the set.\n",
    "* **Basis** = The basis for a vector space is the set of linearly independent vectors that can be used to represent any vector in a vector space V.\n",
    "    * A vector space may have many different bases, but all bases have the same number of vectors, which is the dimension of the vector space.\n",
    "* **Dimension** = Number of vectors in the basis.\n",
    "    * The dimension of any span equals the number of vectors in the span, unless two of the vectors are linearly dependent (fall on the same line)."
   ]
  },
  {
   "cell_type": "code",
   "execution_count": null,
   "metadata": {},
   "outputs": [],
   "source": [
    "# Any vector in the span of two vectors can be expressed as a linear combination\n",
    "# of the two vectors. For example, [2, 3, 0] is in the span of [1, 0, 0] and [0, 1, 0].\n",
    "[2, 3, 0] == 2 * [1, 0, 0] + 3 * [0, 1, 0]\n",
    "\n",
    "# The basis for 3D space i, j, k that can be used to represent any vector in 3D space.\n",
    "# Because there are 3 vectors, the dimension of the space is 3.\n",
    "i = [1, 0, 0]\n",
    "j = [0, 1, 0]\n",
    "k = [0, 0, 1]"
   ]
  },
  {
   "attachments": {},
   "cell_type": "markdown",
   "metadata": {},
   "source": [
    "## Matrix Multiplication\n",
    "* Matrix multiplication is simply a composition of linear transformations. \n",
    "    * Each matrix represents a linear transformation, and the multiplication of both matrices tells you what happens to the basis vectors when both linear transformations are applied.\n",
    "    * For example, two matrices may represent a grid being rotated 90 degrees and then being sheared.\n",
    "    * The order in which matrices are multiplied matters, a 90 degree rotation followed by a shear results in a different matrix than a shear followed by a 90 degree rotation.\n"
   ]
  },
  {
   "cell_type": "code",
   "execution_count": null,
   "metadata": {},
   "outputs": [],
   "source": [
    "vec = [2, 2]\n",
    "\n",
    "# Reflect over the y-axis and then stretch in the horizontal direction.\n",
    "A = [-1 0; 0 1]\n",
    "B = [2 0; 0 1]\n",
    "A * B * vec \n",
    "\n"
   ]
  },
  {
   "attachments": {},
   "cell_type": "markdown",
   "metadata": {},
   "source": [
    "### Spaces\n",
    "* **Column Space**\n",
    "* **Row Space**\n",
    "# **Null Space**"
   ]
  },
  {
   "attachments": {},
   "cell_type": "markdown",
   "metadata": {},
   "source": [
    "### Systems of Linear Equations"
   ]
  }
 ],
 "metadata": {
  "kernelspec": {
   "display_name": "Julia 1.8.5",
   "language": "julia",
   "name": "julia-1.8"
  },
  "language_info": {
   "file_extension": ".jl",
   "mimetype": "application/julia",
   "name": "julia",
   "version": "1.8.5"
  },
  "orig_nbformat": 4
 },
 "nbformat": 4,
 "nbformat_minor": 2
}

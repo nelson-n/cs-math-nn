{
 "cells": [
  {
   "attachments": {},
   "cell_type": "markdown",
   "metadata": {},
   "source": [
    "## Linear Algebra Notes\n",
    "\n",
    "** TO DO **\n",
    "* The geometry and algebra of vectors.\n",
    "* Length and Angle: The Dot Product\n",
    "* Systems of Linear Equations\n",
    "* Spanning sets and linear independence\n",
    "* Matrix operations, matrix algebra, the inverse of a matrix. \n",
    "* Subspaces, Basis, Dimension, Rank\n",
    "* Linear transformations\n",
    "* Eigenvalues, eigenvectors, eigenspaces\n",
    "* Determinants\n",
    "* Orthogonality, projections onto subspaces and othogonal complements"
   ]
  },
  {
   "attachments": {},
   "cell_type": "markdown",
   "metadata": {},
   "source": [
    "## Linear Algebra Overview"
   ]
  },
  {
   "attachments": {},
   "cell_type": "markdown",
   "metadata": {},
   "source": [
    "## Vectors"
   ]
  },
  {
   "attachments": {},
   "cell_type": "markdown",
   "metadata": {},
   "source": [
    "## Matrices"
   ]
  },
  {
   "cell_type": "code",
   "execution_count": null,
   "metadata": {},
   "outputs": [],
   "source": [
    "x = 5"
   ]
  },
  {
   "cell_type": "code",
   "execution_count": null,
   "metadata": {},
   "outputs": [],
   "source": [
    "# Option to duplicate everything in Julia here"
   ]
  }
 ],
 "metadata": {
  "kernelspec": {
   "display_name": "Python 3",
   "language": "python",
   "name": "python3"
  },
  "language_info": {
   "name": "python",
   "version": "3.11.1"
  },
  "orig_nbformat": 4
 },
 "nbformat": 4,
 "nbformat_minor": 2
}

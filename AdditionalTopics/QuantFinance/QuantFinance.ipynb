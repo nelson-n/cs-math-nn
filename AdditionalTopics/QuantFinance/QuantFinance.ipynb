{
 "cells": [
  {
   "cell_type": "code",
   "execution_count": null,
   "metadata": {},
   "outputs": [],
   "source": [
    "x = 5\n",
    "\n",
    "# add in definitions from ICE"
   ]
  },
  {
   "attachments": {},
   "cell_type": "markdown",
   "metadata": {},
   "source": [
    "\n",
    "## Types of Fixed Income Securities\n",
    "* **Zero-Coupon Bond** = Bonds that do not pay periodic interest. They pay the par value at maturity and the interest results from the fact that zero-coupon bonds are initially sold at a price below par value.\n",
    "\n",
    "* **Deferred-Coupon Bonds** = Bonds that carry coupons, but the initial coupon payment is deferred for a specified period. After that period, the accrued coupon payments are paid as a lump sum and the bond continues to pay regular coupon interest afterwards.\n",
    "\n",
    "* **Floating-Rate Securities** = Bonds for which the interest payment varies based on a specified rate or index. The most common procedure for setting the coupon rate is a reference rate (i.e. LIBOR) + a stated margin rate. The margin rate may also vary over time according to a schedule that is stated at indenture.\n",
    "    * Parties to a bond can also limit exposure to extreme fluctuations in the reference rate by putting a cap or a floor on the coupon payment.\n",
    "\n",
    "* **Amortizing Securities** = Bonds that make periodic interest *and* principal payments over the life of the bond. A conventional mortgage is an exampl of an amortizing loan.\n",
    "\n",
    "* **Non-Amortizing Securities** = Bonds that pay only interest until maturity, at which point the principal is repaid. This repayment structure is referred to as a bullet bond or bullet maturity.\n"
   ]
  },
  {
   "attachments": {},
   "cell_type": "markdown",
   "metadata": {},
   "source": [
    "\n",
    "## General Definitions\n",
    "\n",
    "* **Bond Indenture** = Contract that specifies all the rights and obligations of the issuer and owners of a fixed income security.\n",
    "\n",
    "* **Prepayment** = Gives the issuer (borrower) the right to accelerate the principal repayment on a loan. These options are present in mortgage and other types of amortizing loans. Prepayment results in additional uncertainty about the cash flows from the security.\n",
    "\n",
    "* **Call Provisions** = Gives the issuer (borrower) the right to retire all or part of an issue prior to maturity. If the bonds are called, the bondholders surrender the bond at the call price. Call features give issuers the opportunity to replace higher-than-market coupon bonds with lower-coupon issues.\n",
    "    * There may be several call dates specified in the indenture, each with a lower call price. Customarily, when a bond is called on the first permissible call date, the call price is above the par value.\n"
   ]
  }
 ],
 "metadata": {
  "language_info": {
   "name": "python"
  },
  "orig_nbformat": 4
 },
 "nbformat": 4,
 "nbformat_minor": 2
}
